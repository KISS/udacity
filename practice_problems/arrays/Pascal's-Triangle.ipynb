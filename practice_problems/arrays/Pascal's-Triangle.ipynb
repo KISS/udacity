{
 "cells": [
  {
   "cell_type": "markdown",
   "metadata": {
    "graffitiCellId": "id_9l9h3vg"
   },
   "source": [
    "### Problem Statement\n",
    "\n",
    "Find and return the `nth` row of Pascal's triangle in the form a list. `n` is 0-based.\n",
    "\n",
    "For exmaple, if `n = 4`, then `output = [1, 4, 6, 4, 1]`.\n",
    "\n",
    "To know more about Pascal's triangle: https://www.mathsisfun.com/pascals-triangle.html"
   ]
  },
  {
   "cell_type": "code",
   "execution_count": 10,
   "metadata": {
    "graffitiCellId": "id_dcbpne4"
   },
   "outputs": [],
   "source": [
    "def nth_row_pascal(n):\n",
    "    \"\"\"\n",
    "    :param: - n - index (0 based)\n",
    "    return - list() representing nth row of Pascal's triangle\n",
    "    \"\"\"\n",
    "    level = 0 \n",
    "    output = [1]\n",
    "    \n",
    "    while level < n:\n",
    "        curr_sum = 0\n",
    "        prev_val = 0\n",
    "        arr = []\n",
    "        for val in output: \n",
    "            curr_sum += val\n",
    "            prev_val = val\n",
    "            arr.append(curr_sum)\n",
    "            if curr_sum > 1:\n",
    "                curr_sum = prev_val\n",
    "        arr.append(1)\n",
    "        output = arr\n",
    "        level += 1\n",
    "                    \n",
    "    return output "
   ]
  },
  {
   "cell_type": "markdown",
   "metadata": {
    "graffitiCellId": "id_wf20h2l"
   },
   "source": [
    "<span class=\"graffiti-highlight graffiti-id_wf20h2l-id_cuoppnd\"><i></i><button>Hide Solution</button></span>"
   ]
  },
  {
   "cell_type": "code",
   "execution_count": null,
   "metadata": {
    "graffitiCellId": "id_cuoppnd"
   },
   "outputs": [],
   "source": [
    "# Solution\n",
    "\n",
    "def nth_row_pascal(n):\n",
    "    if n == 0:\n",
    "        return [1]\n",
    "    current_row = [1]\n",
    "    for i in range(1, n + 1):\n",
    "        previous_row = current_row\n",
    "        current_row = [1]\n",
    "        for j in range(1, i):\n",
    "            next_number = previous_row[j] + previous_row[j - 1]\n",
    "            current_row.append(next_number)\n",
    "        current_row.append(1)\n",
    "    return current_row"
   ]
  },
  {
   "cell_type": "code",
   "execution_count": 11,
   "metadata": {
    "graffitiCellId": "id_tu5thsl"
   },
   "outputs": [],
   "source": [
    "def test_function(test_case):\n",
    "    n = test_case[0]\n",
    "    solution = test_case[1]\n",
    "    output = nth_row_pascal(n)\n",
    "    if solution == output:\n",
    "        print(\"Pass\")\n",
    "    else:\n",
    "        print(\"Fail\")"
   ]
  },
  {
   "cell_type": "code",
   "execution_count": 12,
   "metadata": {
    "graffitiCellId": "id_esuh96a"
   },
   "outputs": [
    {
     "name": "stdout",
     "output_type": "stream",
     "text": [
      "Pass\n"
     ]
    }
   ],
   "source": [
    "n = 0\n",
    "solution = [1]\n",
    "\n",
    "test_case = [n, solution]\n",
    "test_function(test_case)"
   ]
  },
  {
   "cell_type": "code",
   "execution_count": 13,
   "metadata": {
    "graffitiCellId": "id_2e6eawt"
   },
   "outputs": [
    {
     "name": "stdout",
     "output_type": "stream",
     "text": [
      "Pass\n"
     ]
    }
   ],
   "source": [
    "n = 1\n",
    "solution = [1, 1]\n",
    "\n",
    "test_case = [n, solution]\n",
    "test_function(test_case)"
   ]
  },
  {
   "cell_type": "code",
   "execution_count": 14,
   "metadata": {
    "graffitiCellId": "id_usf0xk8"
   },
   "outputs": [
    {
     "name": "stdout",
     "output_type": "stream",
     "text": [
      "Pass\n"
     ]
    }
   ],
   "source": [
    "n = 2\n",
    "solution = [1, 2, 1]\n",
    "\n",
    "test_case = [n, solution]\n",
    "test_function(test_case)"
   ]
  },
  {
   "cell_type": "code",
   "execution_count": 15,
   "metadata": {
    "graffitiCellId": "id_dmvg99s"
   },
   "outputs": [
    {
     "name": "stdout",
     "output_type": "stream",
     "text": [
      "Pass\n"
     ]
    }
   ],
   "source": [
    "n = 3\n",
    "solution = [1, 3, 3, 1]\n",
    "\n",
    "test_case = [n, solution]\n",
    "test_function(test_case)"
   ]
  },
  {
   "cell_type": "code",
   "execution_count": 16,
   "metadata": {
    "graffitiCellId": "id_lsv4314"
   },
   "outputs": [
    {
     "name": "stdout",
     "output_type": "stream",
     "text": [
      "Pass\n"
     ]
    }
   ],
   "source": [
    "n = 4\n",
    "solution = [1, 4, 6, 4, 1]\n",
    "\n",
    "test_case = [n, solution]\n",
    "test_function(test_case)"
   ]
  },
  {
   "cell_type": "code",
   "execution_count": null,
   "metadata": {
    "graffitiCellId": "id_vbda9jf"
   },
   "outputs": [],
   "source": []
  }
 ],
 "metadata": {
  "graffiti": {
   "firstAuthorId": "dev",
   "id": "id_qd2ksva",
   "language": "EN"
  },
  "kernelspec": {
   "display_name": "Python 3",
   "language": "python",
   "name": "python3"
  },
  "language_info": {
   "codemirror_mode": {
    "name": "ipython",
    "version": 3
   },
   "file_extension": ".py",
   "mimetype": "text/x-python",
   "name": "python",
   "nbconvert_exporter": "python",
   "pygments_lexer": "ipython3",
   "version": "3.6.3"
  }
 },
 "nbformat": 4,
 "nbformat_minor": 2
}
