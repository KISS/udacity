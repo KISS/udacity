{
 "cells": [
  {
   "cell_type": "markdown",
   "metadata": {
    "graffitiCellId": "id_m8owu67"
   },
   "source": [
    "# Graph Depth First Search\n",
    "In this exercise, you'll see how to do a depth first search on a graph. To start, let's create a graph class in Python."
   ]
  },
  {
   "cell_type": "code",
   "execution_count": 1,
   "metadata": {
    "graffitiCellId": "id_ahrjg5m"
   },
   "outputs": [],
   "source": [
    "class GraphNode(object):\n",
    "    def __init__(self, val):\n",
    "        self.value = val\n",
    "        self.children = []\n",
    "        \n",
    "    def add_child(self,new_node):\n",
    "        self.children.append(new_node)\n",
    "    \n",
    "    def remove_child(self,del_node):\n",
    "        if del_node in self.children:\n",
    "            self.children.remove(del_node)\n",
    "\n",
    "class Graph(object):\n",
    "    def __init__(self,node_list):\n",
    "        self.nodes = node_list\n",
    "        \n",
    "    def add_edge(self,node1,node2):\n",
    "        if(node1 in self.nodes and node2 in self.nodes):\n",
    "            node1.add_child(node2)\n",
    "            node2.add_child(node1)\n",
    "            \n",
    "    def remove_edge(self,node1,node2):\n",
    "        if(node1 in self.nodes and node2 in self.nodes):\n",
    "            node1.remove_child(node2)\n",
    "            node2.remove_child(node1)"
   ]
  },
  {
   "cell_type": "markdown",
   "metadata": {
    "graffitiCellId": "id_1gmwlh4"
   },
   "source": [
    "Now let's create the graph."
   ]
  },
  {
   "cell_type": "code",
   "execution_count": 16,
   "metadata": {
    "graffitiCellId": "id_7t1mjv6"
   },
   "outputs": [],
   "source": [
    "nodeG = GraphNode('G')\n",
    "nodeR = GraphNode('R')\n",
    "nodeA = GraphNode('A')\n",
    "nodeP = GraphNode('P')\n",
    "nodeH = GraphNode('H')\n",
    "nodeS = GraphNode('S')\n",
    "\n",
    "graph1 = Graph([nodeS,nodeH,nodeG,nodeP,nodeR,nodeA] ) \n",
    "graph1.add_edge(nodeG,nodeR)\n",
    "graph1.add_edge(nodeA,nodeR)\n",
    "graph1.add_edge(nodeA,nodeG)\n",
    "graph1.add_edge(nodeR,nodeP)\n",
    "graph1.add_edge(nodeH,nodeG)\n",
    "graph1.add_edge(nodeH,nodeP)\n",
    "graph1.add_edge(nodeS,nodeR)"
   ]
  },
  {
   "cell_type": "markdown",
   "metadata": {
    "graffitiCellId": "id_8vfpmgw"
   },
   "source": [
    "## Implement DFS\n",
    "Using what you know about DFS for trees, apply this to graphs. Implement the `dfs_search` to return the `GraphNode` with the value `search_value` starting at the `root_node`."
   ]
  },
  {
   "cell_type": "code",
   "execution_count": 25,
   "metadata": {
    "graffitiCellId": "id_k6nhmo1"
   },
   "outputs": [],
   "source": [
    "def dfs_search(root_node, search_value):\n",
    "    seen = list() \n",
    "    # create a stack to track nodes to visit \n",
    "    to_visit = list()\n",
    "    to_visit.append(root_node)\n",
    "    \n",
    "    while to_visit:\n",
    "        # remove top element from stack \n",
    "        node = to_visit.pop()\n",
    "        \n",
    "        if node.value == search_value:\n",
    "            return node\n",
    "        \n",
    "        # append neighbors to seen \n",
    "        for neighbor in node.children:\n",
    "            if neighbor not in seen:\n",
    "                to_visit.append(neighbor)\n",
    "        \n",
    "        seen.append(node)\n",
    "    \n",
    "    return False\n",
    "        "
   ]
  },
  {
   "cell_type": "markdown",
   "metadata": {
    "graffitiCellId": "id_flg9zjy"
   },
   "source": [
    "<span class=\"graffiti-highlight graffiti-id_flg9zjy-id_4sn6eaw\"><i></i><button>Hide Solution</button></span>"
   ]
  },
  {
   "cell_type": "code",
   "execution_count": 27,
   "metadata": {
    "graffitiCellId": "id_4sn6eaw"
   },
   "outputs": [],
   "source": [
    "# Solution                \n",
    "def dfs_search(root_node, search_value):\n",
    "    visited = set()                         # Sets are faster for lookups\n",
    "    stack = [root_node]                     # Start with a given root node\n",
    "    \n",
    "    while len(stack) > 0:                   # Repeat until the stack is empty\n",
    "            \n",
    "        current_node = stack.pop()          # Pop out a node added recently \n",
    "        visited.add(current_node)           # Mark it as visited\n",
    "\n",
    "        if current_node.value == search_value:\n",
    "            return current_node\n",
    "\n",
    "        # Check all the neighbours\n",
    "        for child in current_node.children:\n",
    "\n",
    "            # If a node hasn't been visited before, and not available in the stack already.\n",
    "            if (child not in visited) and (child not in stack):         \n",
    "                stack.append(child)\n",
    "                "
   ]
  },
  {
   "cell_type": "markdown",
   "metadata": {
    "graffitiCellId": "id_0aafts6"
   },
   "source": [
    "### Tests"
   ]
  },
  {
   "cell_type": "code",
   "execution_count": 28,
   "metadata": {
    "graffitiCellId": "id_3k4dgr7"
   },
   "outputs": [
    {
     "name": "stdout",
     "output_type": "stream",
     "text": [
      "success\n"
     ]
    }
   ],
   "source": [
    "assert nodeA == dfs_search(nodeS, 'A')\n",
    "assert nodeS == dfs_search(nodeP, 'S')\n",
    "assert nodeR == dfs_search(nodeH, 'R')\n",
    "\n",
    "print(\"success\")"
   ]
  },
  {
   "cell_type": "code",
   "execution_count": null,
   "metadata": {
    "graffitiCellId": "id_03sbl82"
   },
   "outputs": [],
   "source": []
  }
 ],
 "metadata": {
  "graffiti": {
   "firstAuthorId": "10694620118",
   "id": "id_9f31yr7",
   "language": "EN"
  },
  "kernelspec": {
   "display_name": "Python 3",
   "language": "python",
   "name": "python3"
  },
  "language_info": {
   "codemirror_mode": {
    "name": "ipython",
    "version": 3
   },
   "file_extension": ".py",
   "mimetype": "text/x-python",
   "name": "python",
   "nbconvert_exporter": "python",
   "pygments_lexer": "ipython3",
   "version": "3.6.3"
  }
 },
 "nbformat": 4,
 "nbformat_minor": 2
}
