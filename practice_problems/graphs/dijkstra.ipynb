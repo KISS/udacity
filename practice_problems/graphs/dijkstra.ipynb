{
 "cells": [
  {
   "cell_type": "markdown",
   "metadata": {
    "graffitiCellId": "id_0ojz955"
   },
   "source": [
    "# Dijkstra's Algorithm\n",
    "In the \"Greedy Algorithms\" lesson, we implemented **Dijkstra's Algorithm** to find the distance of each node from the given source node. In this exercise, you'll implement the same **Dijkstra's algorithm to find the length of the shortest path between a given pair of nodes,** but this time we will have a better time complexity. First, let's build the graph.\n",
    "\n",
    "## Graph Representation\n",
    "In order to run Dijkstra's Algorithm, we'll need to add distance to each edge. We'll use the `GraphEdge` class below to represent each edge between a pair of nodes. You are free to create your own implementation of an undirected graph. "
   ]
  },
  {
   "cell_type": "code",
   "execution_count": 1,
   "metadata": {
    "graffitiCellId": "id_popacit"
   },
   "outputs": [],
   "source": [
    "# Helper Class\n",
    "class GraphEdge(object):\n",
    "    def __init__(self, destinationNode, distance):\n",
    "        self.node = destinationNode\n",
    "        self.distance = distance"
   ]
  },
  {
   "cell_type": "markdown",
   "metadata": {
    "graffitiCellId": "id_ljgv5p0"
   },
   "source": [
    "The new graph representation should look like this:"
   ]
  },
  {
   "cell_type": "code",
   "execution_count": 2,
   "metadata": {
    "graffitiCellId": "id_llarxxs"
   },
   "outputs": [],
   "source": [
    "# Helper Classes\n",
    "class GraphNode(object):\n",
    "    def __init__(self, val):\n",
    "        self.value = val\n",
    "        self.edges = []\n",
    "\n",
    "    def add_child(self, node, distance):\n",
    "        self.edges.append(GraphEdge(node, distance))\n",
    "\n",
    "    def remove_child(self, del_node):\n",
    "        if del_node in self.edges:\n",
    "            self.edges.remove(del_node)\n",
    "\n",
    "class Graph(object):\n",
    "    def __init__(self, node_list):\n",
    "        self.nodes = node_list\n",
    "\n",
    "    # adds an edge between node1 and node2 in both directions\n",
    "    def add_edge(self, node1, node2, distance):\n",
    "        if node1 in self.nodes and node2 in self.nodes:\n",
    "            node1.add_child(node2, distance)\n",
    "            node2.add_child(node1, distance)\n",
    "\n",
    "    def remove_edge(self, node1, node2):\n",
    "        if node1 in self.nodes and node2 in self.nodes:\n",
    "            node1.remove_child(node2)\n",
    "            node2.remove_child(node1)"
   ]
  },
  {
   "cell_type": "markdown",
   "metadata": {
    "graffitiCellId": "id_v79ttrc"
   },
   "source": [
    "### Exercise - Write the function definition here\n",
    "Using what you've learned, implement Dijkstra's Algorithm "
   ]
  },
  {
   "cell_type": "code",
   "execution_count": 19,
   "metadata": {
    "graffitiCellId": "id_zx9fvl9"
   },
   "outputs": [],
   "source": [
    "import math\n",
    "\n",
    "def dijkstra(graph, start_node, end_node):\n",
    "    # implement a priority queue \n",
    "    \n",
    "    # implement the algo: find the shortest path from start_node -> end_node \n",
    "    \n",
    "    # 1.  create a dictionary containing all the nodes and their distance from the start node \n",
    "    # 1.a the distance to the start node is 0 and to all other nodes is infinity (initially)\n",
    "    node_distances = dict() \n",
    "    \n",
    "    # 2. build our distances_from_start dictionary and unvisited set \n",
    "    for node in graph.nodes:\n",
    "        if node == start_node:\n",
    "            node_distances[node] = 0 \n",
    "        else:\n",
    "            node_distances[node] = float('inf')\n",
    "\n",
    "    # 3: initialize a dictionary that will store the \"shortest\" distance to all nodes\n",
    "    shortest_distances = {}\n",
    "        \n",
    "    # 5. while we have nodes to visit, keep iterating \n",
    "    while node_distances:\n",
    "        # 5.a - select the node with the smallest associated distance \n",
    "        min_node = None \n",
    "        min_node_dist = None\n",
    "        \n",
    "        for node in node_distances:\n",
    "            if not min_node:\n",
    "                min_node = node\n",
    "                min_node_dist = node_distances[node]\n",
    "            elif node_distances[node] < min_node_dist: \n",
    "                min_node = node \n",
    "                min_node_dist = node_distances[node]\n",
    "                \n",
    "        # store min_node in our shortest_distances dict\n",
    "        shortest_distances[min_node] = min_node_dist \n",
    "                \n",
    "        # remove our min node from the distances_from_start dictionary \n",
    "        del node_distances[min_node]\n",
    "                    \n",
    "        # 5.b - visit all the neighbors of our selected node            \n",
    "        for edge in min_node.edges:\n",
    "            # 5.b.a - if the neighbors distance is smaller than the current distance we have \n",
    "            # for it in our distances_from_start dictionary\n",
    "            if edge.node in node_distances:\n",
    "                distance_to_neighbor = min_node_dist + edge.distance \n",
    "                \n",
    "                # if the current distance to our neighbor is greater than the distance \n",
    "                # from our current min_node, update the distance \n",
    "                if node_distances[edge.node] > distance_to_neighbor:\n",
    "                    node_distances[edge.node] = distance_to_neighbor\n",
    "    \n",
    "    # return distances_from_start\n",
    "    return shortest_distances[end_node]"
   ]
  },
  {
   "cell_type": "markdown",
   "metadata": {
    "graffitiCellId": "id_6vmf0hp"
   },
   "source": [
    "<span class=\"graffiti-highlight graffiti-id_6vmf0hp-id_cjtybve\"><i></i><button>Show Solution</button></span>"
   ]
  },
  {
   "cell_type": "markdown",
   "metadata": {
    "graffitiCellId": "id_x2fp6ip"
   },
   "source": [
    "### Test - Let's test your function"
   ]
  },
  {
   "cell_type": "code",
   "execution_count": null,
   "metadata": {
    "graffitiCellId": "id_cjtybve"
   },
   "outputs": [],
   "source": [
    "import math   # Need math.inf constant\n",
    "\n",
    "def dijkstra(graph, start_node, end_node):\n",
    "    # Create a dictionary that stores the distance to all nodes in the form of node:distance as key:value \n",
    "    # Assume the initial distance to all nodes is infinity.\n",
    "    # Use math.inf as a predefined constant equal to positive infinity \n",
    "    distance_dict = {node: math.inf for node in graph.nodes}\n",
    "    \n",
    "    \n",
    "    # Build a dictionary that will store the \"shortest\" distance to all nodes, wrt the start_node\n",
    "    shortest_distance = {}\n",
    "\n",
    "    distance_dict[start_node] = 0\n",
    "    \n",
    "    while distance_dict:\n",
    "        \n",
    "        # Sort the distance_dict, and pick the key:value having smallest distance\n",
    "        current_node, node_distance = sorted(distance_dict.items(), key=lambda x: x[1])[0]\n",
    "        \n",
    "        # Remove the current node from the distance_dict, and store the same key:value in shortest_distance\n",
    "        shortest_distance[current_node] = distance_dict.pop(current_node)\n",
    "\n",
    "        # Check for each neighbour of current_node, if the distance_to_neighbour is smaller than the alreday stored distance, update the distance_dict\n",
    "        for edge in current_node.edges:\n",
    "            if edge.node in distance_dict:\n",
    "                \n",
    "                distance_to_neighbour = node_distance + edge.distance\n",
    "                if distance_dict[edge.node] > distance_to_neighbour:\n",
    "                    distance_dict[edge.node] = distance_to_neighbour\n",
    "    \n",
    "    return shortest_distance[end_node]"
   ]
  },
  {
   "cell_type": "code",
   "execution_count": 20,
   "metadata": {
    "graffitiCellId": "id_9zgbdrn"
   },
   "outputs": [
    {
     "name": "stdout",
     "output_type": "stream",
     "text": [
      "Shortest Distance from U to Y is 14\n"
     ]
    }
   ],
   "source": [
    "# Test Case 1:\n",
    "\n",
    "# Create a graph\n",
    "node_u = GraphNode('U')\n",
    "node_d = GraphNode('D')\n",
    "node_a = GraphNode('A')\n",
    "node_c = GraphNode('C')\n",
    "node_i = GraphNode('I')\n",
    "node_t = GraphNode('T')\n",
    "node_y = GraphNode('Y')\n",
    "\n",
    "graph = Graph([node_u, node_d, node_a, node_c, node_i, node_t, node_y])\n",
    "\n",
    "# add_edge() function will add an edge between node1 and node2 in both directions\n",
    "graph.add_edge(node_u, node_a, 4)\n",
    "graph.add_edge(node_u, node_c, 6)\n",
    "graph.add_edge(node_u, node_d, 3)\n",
    "graph.add_edge(node_d, node_c, 4)\n",
    "graph.add_edge(node_a, node_i, 7)\n",
    "graph.add_edge(node_c, node_i, 4)\n",
    "graph.add_edge(node_c, node_t, 5)\n",
    "graph.add_edge(node_i, node_y, 4)\n",
    "graph.add_edge(node_t, node_y, 5)\n",
    "\n",
    "# Shortest Distance from U to Y is 14\n",
    "print('Shortest Distance from {} to {} is {}'.format(node_u.value, node_y.value, dijkstra(graph, node_u, node_y)))"
   ]
  },
  {
   "cell_type": "code",
   "execution_count": 21,
   "metadata": {
    "graffitiCellId": "id_11lz0ci"
   },
   "outputs": [
    {
     "name": "stdout",
     "output_type": "stream",
     "text": [
      "Shortest Distance from A to C is 10\n"
     ]
    }
   ],
   "source": [
    "# Test Case 2\n",
    "node_A = GraphNode('A')\n",
    "node_B = GraphNode('B')\n",
    "node_C = GraphNode('C')\n",
    "\n",
    "graph = Graph([node_A, node_B, node_C])\n",
    "\n",
    "graph.add_edge(node_A, node_B, 5)\n",
    "graph.add_edge(node_B, node_C, 5)\n",
    "graph.add_edge(node_A, node_C, 10)\n",
    "\n",
    "# Shortest Distance from A to C is 10\n",
    "print('Shortest Distance from {} to {} is {}'.format(node_A.value, node_C.value, dijkstra(graph, node_A, node_C)))"
   ]
  },
  {
   "cell_type": "code",
   "execution_count": 22,
   "metadata": {
    "graffitiCellId": "id_mkizk04"
   },
   "outputs": [
    {
     "name": "stdout",
     "output_type": "stream",
     "text": [
      "Shortest Distance from A to C is 4\n"
     ]
    }
   ],
   "source": [
    "# Test Case 3\n",
    "node_A = GraphNode('A')\n",
    "node_B = GraphNode('B')\n",
    "node_C = GraphNode('C')\n",
    "node_D = GraphNode('D')\n",
    "node_E = GraphNode('E')\n",
    "\n",
    "graph = Graph([node_A, node_B, node_C, node_D, node_E])\n",
    "\n",
    "graph.add_edge(node_A, node_B, 3)\n",
    "graph.add_edge(node_A, node_D, 2)\n",
    "graph.add_edge(node_B, node_D, 4)\n",
    "graph.add_edge(node_B, node_E, 6)\n",
    "graph.add_edge(node_B, node_C, 1)\n",
    "graph.add_edge(node_C, node_E, 2)\n",
    "graph.add_edge(node_E, node_D, 1)\n",
    "\n",
    "# Shortest Distance from A to C is 4\n",
    "print('Shortest Distance from {} to {} is {}'.format(node_A.value, node_C.value, dijkstra(graph, node_A, node_C)))"
   ]
  },
  {
   "cell_type": "code",
   "execution_count": null,
   "metadata": {
    "graffitiCellId": "id_k9d8n8y"
   },
   "outputs": [],
   "source": []
  }
 ],
 "metadata": {
  "graffiti": {
   "firstAuthorId": "dev",
   "id": "id_xw4if85",
   "language": "EN"
  },
  "kernelspec": {
   "display_name": "Python 3",
   "language": "python",
   "name": "python3"
  },
  "language_info": {
   "codemirror_mode": {
    "name": "ipython",
    "version": 3
   },
   "file_extension": ".py",
   "mimetype": "text/x-python",
   "name": "python",
   "nbconvert_exporter": "python",
   "pygments_lexer": "ipython3",
   "version": "3.6.3"
  }
 },
 "nbformat": 4,
 "nbformat_minor": 2
}
