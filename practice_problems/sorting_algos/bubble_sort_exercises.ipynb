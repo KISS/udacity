{
 "cells": [
  {
   "cell_type": "markdown",
   "metadata": {
    "graffitiCellId": "id_cje9nsj"
   },
   "source": [
    "# Bubble Sort Exercises\n",
    "Now that you know how about bubble sort works, you'll implement bubble sort for two exercises."
   ]
  },
  {
   "cell_type": "markdown",
   "metadata": {
    "graffitiCellId": "id_t9tqtch"
   },
   "source": [
    "## Exercise 1"
   ]
  },
  {
   "cell_type": "markdown",
   "metadata": {
    "graffitiCellId": "id_gqzp0au"
   },
   "source": [
    "Sam records when they wake up every morning. Assuming Sam always wakes up in the same hour, use bubble sort to sort by earliest to latest.\n",
    "\n"
   ]
  },
  {
   "cell_type": "code",
   "execution_count": 3,
   "metadata": {
    "graffitiCellId": "id_5lff1yj"
   },
   "outputs": [
    {
     "name": "stdout",
     "output_type": "stream",
     "text": [
      "Pass\n",
      "[3, 9, 12, 13, 13, 16, 19, 22, 25, 45, 46, 46, 48, 49, 49, 55, 55, 56, 56]\n"
     ]
    }
   ],
   "source": [
    "wakeup_times = [16,49,3,12,56,49,55,22,13,46,19,55,46,13,25,56,9,48,45]\n",
    "def bubble_sort_1(l):\n",
    "    # continue iterating while we're still swapping elements in the array\n",
    "    for i in range(len(wakeup_times) - 1):\n",
    "        # compare current value with next value\n",
    "        for j in range(i + 1, len(wakeup_times)): \n",
    "            # if current is > than next value, swap\n",
    "            if wakeup_times[i] > wakeup_times[j]:\n",
    "                temp = wakeup_times[i]\n",
    "                wakeup_times[i] = wakeup_times[j]\n",
    "                wakeup_times[j] = temp\n",
    "\n",
    "bubble_sort_1(wakeup_times)\n",
    "print (\"Pass\" if (wakeup_times[0] == 3) else \"Fail\")\n",
    "print(wakeup_times)"
   ]
  },
  {
   "cell_type": "markdown",
   "metadata": {
    "graffitiCellId": "id_y26wn0b"
   },
   "source": [
    "<span class=\"graffiti-highlight graffiti-id_y26wn0b-id_uppmlq4\"><i></i><button>Show Solution</button></span>"
   ]
  },
  {
   "cell_type": "markdown",
   "metadata": {
    "graffitiCellId": "id_qeyh6km"
   },
   "source": [
    "## Exercise 2"
   ]
  },
  {
   "cell_type": "markdown",
   "metadata": {
    "graffitiCellId": "id_yapmadk"
   },
   "source": [
    "Sam doesn't always go to sleep in the same hour. Given the following times Sam has gone to sleep, sort the times from latest to earliest."
   ]
  },
  {
   "cell_type": "code",
   "execution_count": 9,
   "metadata": {
    "graffitiCellId": "id_dx34e9v"
   },
   "outputs": [
    {
     "name": "stdout",
     "output_type": "stream",
     "text": [
      "Pass\n",
      "[(24, 23), (24, 13), (24, 3), (23, 20), (22, 5), (21, 58), (21, 55)]\n"
     ]
    }
   ],
   "source": [
    "# Entries are (h, m) where h is the hour and m is the minute\n",
    "sleep_times = [(24,13), (21,55), (23,20), (22,5), (24,23), (21,58), (24,3)]\n",
    "\n",
    "def bubble_sort_2(l):\n",
    "    # TODO: Implement bubble sort solution\n",
    "    for i in range(len(sleep_times) - 1):\n",
    "        for j in range(i + 1, len(sleep_times)):\n",
    "            hour_i = sleep_times[i][0]\n",
    "            hour_j = sleep_times[j][0]\n",
    "            \n",
    "            # sort: latest -> earliest\n",
    "            if hour_i < hour_j: \n",
    "                temp = sleep_times[i]\n",
    "                sleep_times[i] = sleep_times[j]\n",
    "                sleep_times[j] = temp \n",
    "            elif hour_i == hour_j: \n",
    "                min_i = sleep_times[i][1]\n",
    "                min_j = sleep_times[j][1]\n",
    "                \n",
    "                # hour_i is still smallest\n",
    "                if min_i < min_j: \n",
    "                    temp = sleep_times[i]\n",
    "                    sleep_times[i] = sleep_times[j]\n",
    "                    sleep_times[j] = temp \n",
    "\n",
    "bubble_sort_2(sleep_times)\n",
    "print (\"Pass\" if (sleep_times == [(24,23), (24,13), (24,3), (23,20), (22,5), (21,58), (21,55)]) else \"Fail\")\n",
    "\n",
    "print(sleep_times)"
   ]
  },
  {
   "cell_type": "markdown",
   "metadata": {
    "graffitiCellId": "id_f6s1i29"
   },
   "source": [
    "<span class=\"graffiti-highlight graffiti-id_f6s1i29-id_hxr8nmt\"><i></i><button>Show Solution</button></span>"
   ]
  }
 ],
 "metadata": {
  "graffiti": {
   "firstAuthorId": "10694620118",
   "id": "id_0hd22kb",
   "language": "EN"
  },
  "kernelspec": {
   "display_name": "Python 3",
   "language": "python",
   "name": "python3"
  },
  "language_info": {
   "codemirror_mode": {
    "name": "ipython",
    "version": 3
   },
   "file_extension": ".py",
   "mimetype": "text/x-python",
   "name": "python",
   "nbconvert_exporter": "python",
   "pygments_lexer": "ipython3",
   "version": "3.6.3"
  }
 },
 "nbformat": 4,
 "nbformat_minor": 2
}
