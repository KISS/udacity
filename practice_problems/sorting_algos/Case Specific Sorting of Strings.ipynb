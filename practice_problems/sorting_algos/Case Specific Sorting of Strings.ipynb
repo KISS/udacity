{
 "cells": [
  {
   "cell_type": "markdown",
   "metadata": {
    "graffitiCellId": "id_7nj9dyd"
   },
   "source": [
    "# Case Specific Sorting of Strings\n",
    "\n",
    "## Problem statement\n",
    "Given a string consisting of uppercase and lowercase ASCII characters, write a function, `case_sort`, that sorts uppercase and lowercase letters separately, such that if the $i$th place in the original string had an uppercase character then it should not have a lowercase character after being sorted and vice versa.\n",
    "\n",
    "For example:  \n",
    "**Input:** fedRTSersUXJ  \n",
    "**Output:** deeJRSfrsTUX"
   ]
  },
  {
   "cell_type": "code",
   "execution_count": 7,
   "metadata": {
    "graffitiCellId": "id_jmqckie"
   },
   "outputs": [],
   "source": [
    "def case_sort(string):\n",
    "    \"\"\"\n",
    "    Here are some pointers on how the function should work:\n",
    "    1. Sort the string\n",
    "    2. Create an empty output list\n",
    "    3. Iterate over original string\n",
    "        if the character is lower-case:\n",
    "            pick lower-case character from sorted string to place in output list\n",
    "        else:\n",
    "            pick upper-case character from sorted string to place in output list\n",
    "    \n",
    "    Note: You can use Python's inbuilt ord() function to find the ASCII value of a character\n",
    "    \"\"\"\n",
    "    # sort the string, returns uppercase -> lowercase (each subset is in order)\n",
    "    sorted_string_arr = merge_sort(string)\n",
    "    print(\"sorted_string_arr\", sorted_string_arr)\n",
    "    \n",
    "    # create an empty output list\n",
    "    output_list = []\n",
    "    \n",
    "    upper_ptr = 0 \n",
    "    lower_ptr = 0 \n",
    "    for i in range(len(sorted_string_arr)):\n",
    "        if sorted_string_arr[i].islower():\n",
    "            lower_ptr = i\n",
    "            break\n",
    "    \n",
    "    # iterate over original string\n",
    "    for c in string:\n",
    "        if c.islower(): \n",
    "            # pick lower-case char from sorted string\n",
    "            val = sorted_string_arr[lower_ptr]\n",
    "            # append char to output\n",
    "            output_list.append(val)\n",
    "            lower_ptr += 1\n",
    "        else:\n",
    "            # pick upper-case char from sorted string \n",
    "            val = sorted_string_arr[upper_ptr]\n",
    "            # append char to output \n",
    "            output_list.append(val)\n",
    "            upper_ptr += 1\n",
    "\n",
    "    return ('').join(output_list)\n",
    "    \n",
    "def merge_sort(arr):\n",
    "    if len(arr) <= 1:\n",
    "        return arr\n",
    "    \n",
    "    mid = len(arr) // 2\n",
    "    left_arr = arr[:mid]\n",
    "    right_arr = arr[mid:]\n",
    "    \n",
    "    # ensure both the left and right halves are sorted \n",
    "    left_arr = merge_sort(left_arr)\n",
    "    right_arr = merge_sort(right_arr)\n",
    "    \n",
    "    # merge our current halves\n",
    "    return merge(left_arr, right_arr)\n",
    "\n",
    "def merge(left_arr, right_arr):\n",
    "    merged = []\n",
    "    left_index = 0\n",
    "    right_index = 0 \n",
    "    \n",
    "    while left_index < len(left_arr) and right_index < len(right_arr):\n",
    "        left_char = left_arr[left_index]\n",
    "        right_char = right_arr[right_index]\n",
    "        \n",
    "        if ord(left_char) < ord(right_char):\n",
    "            merged.append(left_char)\n",
    "            left_index += 1\n",
    "        else:\n",
    "            merged.append(right_char)\n",
    "            right_index += 1\n",
    "            \n",
    "    # append remaining elements \n",
    "    merged += left_arr[left_index:]\n",
    "    merged += right_arr[right_index:]\n",
    "    \n",
    "    return merged\n",
    "    "
   ]
  },
  {
   "cell_type": "markdown",
   "metadata": {
    "graffitiCellId": "id_mw53bf1"
   },
   "source": [
    "<span class=\"graffiti-highlight graffiti-id_mw53bf1-id_fsblbn3\"><i></i><button>Hide Solution</button></span>"
   ]
  },
  {
   "cell_type": "code",
   "execution_count": 30,
   "metadata": {
    "graffitiCellId": "id_fsblbn3"
   },
   "outputs": [],
   "source": [
    "def case_sort(string):\n",
    "    upper_ch_index = 0\n",
    "    lower_ch_index = 0\n",
    "    \n",
    "    sorted_string = sorted(string)\n",
    "    print(\"sorted_string\", sorted_string)\n",
    "    for index, character in enumerate(sorted_string):\n",
    "        # check if character is lower-case\n",
    "        ascii_int = ord(character)\n",
    "        if 97 <= ascii_int <= 122:       # ASCII value of a = 97 & ASCII value of z = 122\n",
    "            lower_ch_index = index\n",
    "            break\n",
    "            \n",
    "    output = list()\n",
    "    for character in string:\n",
    "        ascii_int = ord(character)\n",
    "        # if character is lower case pick next lower_case character\n",
    "        if 97 <= ascii_int <= 122:\n",
    "            output.append(sorted_string[lower_ch_index])\n",
    "            lower_ch_index += 1\n",
    "        else:\n",
    "            output.append(sorted_string[upper_ch_index])\n",
    "            upper_ch_index += 1\n",
    "    return \"\".join(output)"
   ]
  },
  {
   "cell_type": "code",
   "execution_count": 8,
   "metadata": {
    "graffitiCellId": "id_z40d3cc"
   },
   "outputs": [],
   "source": [
    "def test_function(test_case):\n",
    "    test_string = test_case[0]\n",
    "    solution = test_case[1]\n",
    "    \n",
    "    if case_sort(test_string) == solution:\n",
    "        print(\"Pass\")\n",
    "    else:\n",
    "        print(\"False\")"
   ]
  },
  {
   "cell_type": "code",
   "execution_count": 9,
   "metadata": {
    "graffitiCellId": "id_gxkbvwz"
   },
   "outputs": [
    {
     "name": "stdout",
     "output_type": "stream",
     "text": [
      "sorted_string_arr ['J', 'R', 'S', 'T', 'U', 'X', 'd', 'e', 'e', 'f', 'r', 's']\n",
      "Pass\n"
     ]
    }
   ],
   "source": [
    "test_string = 'fedRTSersUXJ'\n",
    "solution = \"deeJRSfrsTUX\"\n",
    "test_case = [test_string, solution]\n",
    "test_function(test_case)"
   ]
  },
  {
   "cell_type": "code",
   "execution_count": 10,
   "metadata": {
    "graffitiCellId": "id_uduu26h"
   },
   "outputs": [
    {
     "name": "stdout",
     "output_type": "stream",
     "text": [
      "sorted_string_arr ['I', 'R', 'S', 'T', 'U', 'X', 'd', 'e', 'e', 'f', 'r', 's']\n",
      "Pass\n"
     ]
    }
   ],
   "source": [
    "test_string = \"defRTSersUXI\"\n",
    "solution = \"deeIRSfrsTUX\"\n",
    "test_case = [test_string, solution]\n",
    "test_function(test_case)"
   ]
  },
  {
   "cell_type": "code",
   "execution_count": null,
   "metadata": {
    "graffitiCellId": "id_x1jbbqx"
   },
   "outputs": [],
   "source": []
  }
 ],
 "metadata": {
  "graffiti": {
   "firstAuthorId": "dev",
   "id": "id_9ub8eru",
   "language": "EN"
  },
  "kernelspec": {
   "display_name": "Python 3",
   "language": "python",
   "name": "python3"
  },
  "language_info": {
   "codemirror_mode": {
    "name": "ipython",
    "version": 3
   },
   "file_extension": ".py",
   "mimetype": "text/x-python",
   "name": "python",
   "nbconvert_exporter": "python",
   "pygments_lexer": "ipython3",
   "version": "3.6.3"
  }
 },
 "nbformat": 4,
 "nbformat_minor": 2
}
