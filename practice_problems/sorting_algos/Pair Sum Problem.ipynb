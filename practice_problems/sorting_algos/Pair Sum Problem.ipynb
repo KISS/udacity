{
 "cells": [
  {
   "cell_type": "markdown",
   "metadata": {
    "graffitiCellId": "id_chbughc"
   },
   "source": [
    "We saw a *similar* problem earlier in this **Data Structures** course, in the **Maps and Hashing** lesson. There, we used additional space to create a dictionary in order to solve the problem. \n",
    "\n",
    "\n",
    "## Problem Statement\n",
    "\n",
    "Given an input array and a target value (integer), find two values in the array whose sum is equal to the target value. Solve the problem **without using extra space**. You can assume the array has unique values and will never have more than one solution."
   ]
  },
  {
   "cell_type": "code",
   "execution_count": 16,
   "metadata": {
    "graffitiCellId": "id_9rkom1w"
   },
   "outputs": [],
   "source": [
    "def pair_sum(arr, target):\n",
    "    \"\"\"\n",
    "    :param: arr - input array\n",
    "    :param: target - target value\n",
    "    TODO: complete this method to find two numbers such that their sum is equal to the target\n",
    "    Return the two numbers in the form of a sorted list\n",
    "    \"\"\"\n",
    "    print(\"1\", arr)\n",
    "    \n",
    "    # sort the array \n",
    "    quicksort(arr, 0, len(arr) - 1)\n",
    "    \n",
    "    print(\"2\", arr)\n",
    "    \n",
    "    # start pointer\n",
    "    start_ptr = 0 \n",
    "    \n",
    "    # forward pointer\n",
    "    forward_ptr = 1\n",
    "    \n",
    "    # iterate through the array while the start pointer < length of the array - 1 (we need two values to compare)\n",
    "    # and arr[start pointer] isn't > target\n",
    "    while start_ptr < len(arr) - 1 and arr[start_ptr] <= target:\n",
    "        # calculate the difference we need: target - arr[start pointer]\n",
    "        val_needed = target - arr[start_ptr]\n",
    "        \n",
    "        # while arr[forward pointer] < length of the array and arr[forward pointer] isn't > difference needed\n",
    "        while forward_ptr < len(arr) and arr[forward_ptr] <= val_needed:\n",
    "            # if arr[forward pointer] == the difference we need, return [arr[start pointer], arr[forward pointer]]\n",
    "            if arr[forward_ptr] == val_needed:\n",
    "                return [arr[start_ptr], arr[forward_ptr]]\n",
    "            # else: increment forward pointer \n",
    "            else:\n",
    "                forward_ptr += 1\n",
    "        # increment start pointer\n",
    "        start_ptr += 1\n",
    "        \n",
    "    # if no solution found, return [None, None]\n",
    "    return [None, None]\n",
    "    \n",
    "def quicksort(arr, start_index, end_index):\n",
    "    # if start_index >= end_index: return \n",
    "    if start_index >= end_index:\n",
    "        return\n",
    "    \n",
    "    # calculate our pivot index \n",
    "    pivot_index = partition(arr, start_index, end_index)\n",
    "    \n",
    "    # recursively sort the left half of the arr\n",
    "    quicksort(arr, start_index, pivot_index - 1)\n",
    "    \n",
    "    # recursively sort the right half of the arr \n",
    "    quicksort(arr, pivot_index + 1, end_index)\n",
    "    \n",
    "def partition(arr, start_index, end_index): \n",
    "    # initialize our pivot index \n",
    "    pivot_index = end_index \n",
    "    \n",
    "    # iterate through our array, while start_index isn't >= pivot index \n",
    "    while start_index < pivot_index:\n",
    "        # if arr[start_index] is <= arr[pivot index]: \n",
    "        if arr[start_index] <= arr[pivot_index]:\n",
    "            # increment start index \n",
    "            start_index += 1\n",
    "        # else: swap 3 values\n",
    "        else:\n",
    "            temp = arr[start_index]\n",
    "        \n",
    "            # arr[start index] = the value to the left our pivot value\n",
    "            arr[start_index] = arr[pivot_index - 1]\n",
    "            \n",
    "            # arr[pivot index - 1] = our pivot value \n",
    "            arr[pivot_index - 1] = arr[pivot_index]\n",
    "            \n",
    "            # arr[pivot index] = the value originally at arr[start index]\n",
    "            arr[pivot_index] = temp \n",
    "            \n",
    "            # decrement our pivot index (since our pivot value has been shifted to the left by 1)\n",
    "            pivot_index -= 1\n",
    "            \n",
    "    # return our final pivot index \n",
    "    return pivot_index "
   ]
  },
  {
   "cell_type": "markdown",
   "metadata": {
    "graffitiCellId": "id_z5auf94"
   },
   "source": [
    "## <span class=\"graffiti-highlight graffiti-id_z5auf94-id_mxw6vbb\"><i></i><button>Hide Solution</button></span>"
   ]
  },
  {
   "cell_type": "code",
   "execution_count": 22,
   "metadata": {
    "graffitiCellId": "id_mxw6vbb"
   },
   "outputs": [],
   "source": [
    "def pair_sum(arr, target):\n",
    "    # sort the list\n",
    "    arr.sort()\n",
    "    \n",
    "    # initialize two pointer - one from start of the array and other from the end\n",
    "    front_index = 0\n",
    "    back_index = len(arr) - 1\n",
    "\n",
    "    # shift the pointers\n",
    "    while front_index < back_index:\n",
    "        front = arr[front_index]\n",
    "        back = arr[back_index]\n",
    "\n",
    "        if front + back == target:\n",
    "            return [front, back]\n",
    "        elif front + back < target:       # sum < target ==> shift front pointer forward\n",
    "            front_index += 1 \n",
    "        else:\n",
    "            back_index -= 1               # sum > target ==> shift back pointer backward\n",
    "\n",
    "    return [None, None]"
   ]
  },
  {
   "cell_type": "code",
   "execution_count": 23,
   "metadata": {
    "graffitiCellId": "id_3eusmdv"
   },
   "outputs": [],
   "source": [
    "def test_function(test_case):\n",
    "    input_list = test_case[0]\n",
    "    target = test_case[1]\n",
    "    solution = test_case[2]\n",
    "    output = pair_sum(input_list, target)\n",
    "    if output == solution:\n",
    "        print(\"Pass\")\n",
    "    else:\n",
    "        print(\"False\")\n",
    "\n"
   ]
  },
  {
   "cell_type": "code",
   "execution_count": 24,
   "metadata": {
    "graffitiCellId": "id_lt2ac2g"
   },
   "outputs": [
    {
     "name": "stdout",
     "output_type": "stream",
     "text": [
      "Pass\n"
     ]
    }
   ],
   "source": [
    "input_list = [2, 7, 11, 15]\n",
    "target = 9\n",
    "solution = [2, 7]\n",
    "test_case = [input_list, target, solution]\n",
    "test_function(test_case)"
   ]
  },
  {
   "cell_type": "code",
   "execution_count": 25,
   "metadata": {
    "graffitiCellId": "id_p8o19gq"
   },
   "outputs": [
    {
     "name": "stdout",
     "output_type": "stream",
     "text": [
      "Pass\n"
     ]
    }
   ],
   "source": [
    "input_list = [0, 8, 5, 7, 9]\n",
    "target = 9\n",
    "solution = [0, 9]\n",
    "test_case = [input_list, target, solution]\n",
    "test_function(test_case)"
   ]
  },
  {
   "cell_type": "code",
   "execution_count": 26,
   "metadata": {
    "graffitiCellId": "id_f0dyr3c"
   },
   "outputs": [
    {
     "name": "stdout",
     "output_type": "stream",
     "text": [
      "Pass\n"
     ]
    }
   ],
   "source": [
    "input_list = [110, 9, 89]\n",
    "target = 9\n",
    "solution = [None, None]\n",
    "test_case = [input_list, target, solution]\n",
    "test_function(test_case)"
   ]
  },
  {
   "cell_type": "code",
   "execution_count": null,
   "metadata": {
    "graffitiCellId": "id_h34vgsy"
   },
   "outputs": [],
   "source": []
  }
 ],
 "metadata": {
  "graffiti": {
   "firstAuthorId": "dev",
   "id": "id_v3szme8",
   "language": "EN"
  },
  "kernelspec": {
   "display_name": "Python 3",
   "language": "python",
   "name": "python3"
  },
  "language_info": {
   "codemirror_mode": {
    "name": "ipython",
    "version": 3
   },
   "file_extension": ".py",
   "mimetype": "text/x-python",
   "name": "python",
   "nbconvert_exporter": "python",
   "pygments_lexer": "ipython3",
   "version": "3.6.3"
  }
 },
 "nbformat": 4,
 "nbformat_minor": 2
}
