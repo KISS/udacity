{
 "cells": [
  {
   "cell_type": "markdown",
   "metadata": {
    "graffitiCellId": "id_ner1upo"
   },
   "source": [
    "# Counting Inversions\n",
    "\n",
    "The number of *inversions* in a disordered list is the number of pairs of elements that are inverted (out of order) in the list.  \n",
    "\n",
    "Here are some examples: \n",
    "  - [0,1] has 0 inversions\n",
    "  - [2,1] has 1 inversion (2,1)\n",
    "  - [3, 1, 2, 4] has 2 inversions (3, 2), (3, 1)\n",
    "  - [7, 5, 3, 1] has 6 inversions (7, 5), (3, 1), (5, 1), (7, 1), (5, 3), (7, 3)\n",
    "  \n",
    "The number of inversions can also be thought of in the following manner. \n",
    "\n",
    ">Given an array `arr[0 ... n-1]` of `n` distinct positive integers, for indices `i and j`, if `i < j` and `arr[i] > arr[j]` then the pair `(i, j)` is called an inversion of `arr`.\n",
    "\n",
    "## Problem statement\n",
    "\n",
    "Write a function, `count_inversions`, that takes an array (or Python list) as input, and returns a count of the total number of inversions present in the input.\n",
    "\n",
    "Mergesort provides an efficient way to solve this problem."
   ]
  },
  {
   "cell_type": "code",
   "execution_count": 39,
   "metadata": {
    "graffitiCellId": "id_jf6a5ys"
   },
   "outputs": [],
   "source": [
    "def count_inversions(arr):\n",
    "    if len(arr) <= 1:\n",
    "        return 0 \n",
    "    \n",
    "    inversions = 0 \n",
    "    tup = (arr, inversions)\n",
    "    output = merge_sort(tup)\n",
    "    \n",
    "    return output[1]\n",
    "\n",
    "def merge_sort(tup):    \n",
    "    arr = tup[0]\n",
    "    inversions = tup[1]\n",
    "    \n",
    "    if len(arr) <= 1:\n",
    "        return tup\n",
    "    \n",
    "    # prepare array for merge sort\n",
    "    mid = len(arr) // 2\n",
    "    left_arr = arr[:mid]\n",
    "    right_arr = arr[mid:]\n",
    "    \n",
    "    left_arr = merge_sort((left_arr, inversions))\n",
    "    right_arr = merge_sort((right_arr, inversions))\n",
    "    \n",
    "    inversions += (left_arr[1] + right_arr[1])\n",
    "    \n",
    "    return merge(left_arr[0], right_arr[0], inversions)\n",
    "\n",
    "def merge(left_arr, right_arr, inversions):\n",
    "    merged = []\n",
    "    left_index = 0 \n",
    "    right_index = 0 \n",
    "    \n",
    "    while left_index < len(left_arr) and right_index < len(right_arr):\n",
    "        if left_arr[left_index] < right_arr[right_index]:\n",
    "            merged.append( left_arr[left_index] )\n",
    "            left_index += 1 \n",
    "        else:\n",
    "            merged.append( right_arr[right_index] )\n",
    "            right_index += 1\n",
    "        # increment inversions (aka swaps)\n",
    "        inversions += 1\n",
    "        \n",
    "    # if either list still has elements remaining, \n",
    "    # merge the remaining elements to merged \n",
    "    merged += left_arr[left_index:]\n",
    "    merged += right_arr[right_index:]\n",
    "    \n",
    "    return (merged, inversions)"
   ]
  },
  {
   "cell_type": "markdown",
   "metadata": {
    "graffitiCellId": "id_8809fp2"
   },
   "source": [
    "<span class=\"graffiti-highlight graffiti-id_8809fp2-id_8br31oi\"><i></i><button>Hide Solution</button></span>"
   ]
  },
  {
   "cell_type": "code",
   "execution_count": 108,
   "metadata": {
    "graffitiCellId": "id_8br31oi"
   },
   "outputs": [],
   "source": [
    "def count_inversions(arr):\n",
    "    start_index = 0\n",
    "    end_index = len(arr) - 1\n",
    "    output = inversion_count_func(arr, start_index, end_index)\n",
    "    return output\n",
    "\n",
    "def inversion_count_func(arr, start_index, end_index):\n",
    "    if start_index >= end_index:\n",
    "        return 0\n",
    "    \n",
    "    mid_index = start_index + (end_index - start_index) // 2\n",
    "\n",
    "    # find number of inversions in left-half\n",
    "    left_answer = inversion_count_func(arr, start_index, mid_index)\n",
    "    \n",
    "    # find number of inversions in right-half\n",
    "    right_answer = inversion_count_func(arr, mid_index + 1, end_index)\n",
    "\n",
    "    output = left_answer + right_answer\n",
    "#     print(output)\n",
    "    \n",
    "    # merge two sorted halves and count inversions while merging\n",
    "    output += merge_two_sorted_halves(arr, start_index, mid_index, mid_index + 1, end_index)\n",
    "    \n",
    "#     print(output)\n",
    "    return output\n",
    "\n",
    "\n",
    "def merge_two_sorted_halves(arr, start_one, end_one, start_two, end_two):\n",
    "    count = 0\n",
    "    left_index = start_one\n",
    "    right_index = start_two\n",
    "    \n",
    "#     print(start_one, end_one, start_two, end_two)\n",
    "\n",
    "    output_length = (end_two - start_two + 1) + (end_one - start_one + 1)\n",
    "    output_list = [0 for _ in range(output_length)]\n",
    "    index = 0\n",
    "\n",
    "    while index < output_length:\n",
    "        # if left <= right, it's not an inversion\n",
    "        if arr[left_index] <= arr[right_index]:\n",
    "            output_list[index] = arr[left_index]\n",
    "            left_index += 1\n",
    "\n",
    "        else:\n",
    "#             print(end_one, left_index, count)\n",
    "            count = count + (end_one - left_index + 1)           # left > right hence it's an inversion\n",
    "            output_list[index] = arr[right_index]\n",
    "            right_index += 1\n",
    "\n",
    "        index = index + 1\n",
    "#         print(\"output_list: \", output_list)\n",
    "        \n",
    "        if left_index > end_one:\n",
    "            for i in range(right_index, end_two + 1):\n",
    "                output_list[index] = arr[i]\n",
    "                index += 1\n",
    "            break\n",
    "\n",
    "        elif right_index > end_two:\n",
    "            for i in range(left_index, end_one + 1):\n",
    "                output_list[index] = arr[i]\n",
    "                index += 1\n",
    "            break\n",
    "            \n",
    "\n",
    "    index = start_one\n",
    "#     print(\"arr\", arr, \" output list\", output_list) \n",
    "#     print(\"output length: \", output_length)\n",
    "    for i in range(output_length):\n",
    "#         print(\"index:\", index, \"i: \", i)\n",
    "        arr[index] = output_list[i]\n",
    "        index += 1\n",
    "        \n",
    "#     print(\"after loop:\", \"arr\", arr, \" output list\", output_list)\n",
    "    return count"
   ]
  },
  {
   "cell_type": "code",
   "execution_count": 109,
   "metadata": {
    "graffitiCellId": "id_l6xh0rg"
   },
   "outputs": [],
   "source": [
    "def test_function(test_case):\n",
    "    arr = test_case[0]\n",
    "    solution = test_case[1]\n",
    "    if count_inversions(arr) == solution:\n",
    "        print(\"Pass\")\n",
    "    else:\n",
    "        print(\"Fail\")\n"
   ]
  },
  {
   "cell_type": "code",
   "execution_count": 110,
   "metadata": {
    "graffitiCellId": "id_4aqr272"
   },
   "outputs": [
    {
     "name": "stdout",
     "output_type": "stream",
     "text": [
      "0\n",
      "0\n",
      "0\n",
      "2\n",
      "0\n",
      "0\n",
      "2\n",
      "4\n",
      "Pass\n"
     ]
    }
   ],
   "source": [
    "arr = [2, 5, 1, 3, 4]\n",
    "solution = 4\n",
    "test_case = [arr, solution]\n",
    "test_function(test_case)"
   ]
  },
  {
   "cell_type": "code",
   "execution_count": 111,
   "metadata": {
    "graffitiCellId": "id_0sqy9z2"
   },
   "outputs": [
    {
     "name": "stdout",
     "output_type": "stream",
     "text": [
      "0\n",
      "0\n",
      "0\n",
      "2\n",
      "0\n",
      "0\n",
      "2\n",
      "8\n",
      "0\n",
      "0\n",
      "0\n",
      "0\n",
      "0\n",
      "1\n",
      "1\n",
      "3\n",
      "11\n",
      "26\n",
      "Pass\n"
     ]
    }
   ],
   "source": [
    "arr = [54, 99, 49, 22, 37, 18, 22, 90, 86, 33]\n",
    "solution = 26\n",
    "test_case = [arr, solution]\n",
    "test_function(test_case)"
   ]
  },
  {
   "cell_type": "code",
   "execution_count": 112,
   "metadata": {
    "graffitiCellId": "id_s5l67ma"
   },
   "outputs": [
    {
     "name": "stdout",
     "output_type": "stream",
     "text": [
      "0\n",
      "0\n",
      "0\n",
      "0\n",
      "0\n",
      "0\n",
      "0\n",
      "2\n",
      "0\n",
      "0\n",
      "0\n",
      "0\n",
      "0\n",
      "0\n",
      "0\n",
      "0\n",
      "2\n",
      "2\n",
      "Pass\n"
     ]
    }
   ],
   "source": [
    "arr = [1, 2, 4, 2, 3, 11, 22, 99, 108, 389]\n",
    "solution = 2\n",
    "test_case = [arr, solution]\n",
    "test_function(test_case)"
   ]
  },
  {
   "cell_type": "code",
   "execution_count": null,
   "metadata": {
    "graffitiCellId": "id_bh7lwrm"
   },
   "outputs": [],
   "source": []
  }
 ],
 "metadata": {
  "graffiti": {
   "firstAuthorId": "dev",
   "id": "id_2rhwg9e",
   "language": "EN"
  },
  "kernelspec": {
   "display_name": "Python 3",
   "language": "python",
   "name": "python3"
  },
  "language_info": {
   "codemirror_mode": {
    "name": "ipython",
    "version": 3
   },
   "file_extension": ".py",
   "mimetype": "text/x-python",
   "name": "python",
   "nbconvert_exporter": "python",
   "pygments_lexer": "ipython3",
   "version": "3.6.3"
  }
 },
 "nbformat": 4,
 "nbformat_minor": 2
}
