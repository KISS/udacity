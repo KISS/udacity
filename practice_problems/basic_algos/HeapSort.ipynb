{
 "cells": [
  {
   "cell_type": "markdown",
   "metadata": {
    "graffitiCellId": "id_8qbo8lo"
   },
   "source": [
    "# Heapsort\n",
    "\n",
    "A heapsort is an in-place sorting algorithm that treats an array like a binary tree and moves the largest values to the end of the heap until the full array is sorted.  \n",
    "\n",
    "The main steps in a heapsort are:\n",
    "1. Convert the array into a maxheap (a complete binary tree with decreasing values) \n",
    "2. Swap the top element with the last element in the array (putting it in it's correct final position)\n",
    "3. Repeat with `arr[:len(arr)-1]` (all but the sorted elements)\n",
    "\n",
    "## Visualization of a heapsort\n",
    "![animation of a heap sort](https://upload.wikimedia.org/wikipedia/commons/4/4d/Heapsort-example.gif)\n",
    "\n",
    "[\"Heapsort example\"](https://commons.wikimedia.org/wiki/File:Heapsort-example.gif) by Swfung8. Used under [CC BY-SA 3.0](https://creativecommons.org/licenses/by-sa/3.0/deed.en).\n",
    "\n",
    "## Problem statement\n",
    "\n",
    "In the cell below, see if you can code a `heapsort` function that takes an array (or Python list) and performs a heapsort on it. You will have to complete the heapify"
   ]
  },
  {
   "cell_type": "code",
   "execution_count": 11,
   "metadata": {},
   "outputs": [],
   "source": [
    "def heapsort(arr):\n",
    "    heapify(arr, len(arr), 0)\n",
    "    \n",
    "def heapify(arr, n, i):\n",
    "    \"\"\"\n",
    "    :param: arr - array to heapify\n",
    "    n -- number of elements in the array\n",
    "    i -- index of the current node\n",
    "    TODO: Converts an array (in place) into a maxheap, a complete binary tree with the largest values at the top\n",
    "    \"\"\"\n",
    "    print(\"len of arr\", n)\n",
    "    # base case: when n <= 1 (aka we have 1 or 0 elements in the list), return\n",
    "    if n <= 1:\n",
    "        return \n",
    "  \n",
    "    parent_index = i \n",
    "\n",
    "    # iterate through array \n",
    "    while parent_index < n:\n",
    "        parent_val = arr[parent_index]\n",
    "        new_parent_val = parent_val \n",
    "        \n",
    "        left_child_index = 2 * parent_index + 1\n",
    "        right_child_index = 2 * parent_index + 2\n",
    "        \n",
    "        left_in_bounds = left_child_index < n\n",
    "        right_in_bounds = right_child_index < n\n",
    "        \n",
    "        \n",
    "        print(\"parent\", parent_val, left_in_bounds, right_in_bounds)\n",
    "        \n",
    "        if left_in_bounds and arr[left_child_index]:\n",
    "            print(\"left child\", arr[left_child_index])\n",
    "            new_parent_val = max(new_parent_val, arr[left_child_index])\n",
    "            \n",
    "        if right_in_bounds and arr[right_child_index]:\n",
    "            print(\"right child\", arr[right_child_index])\n",
    "            new_parent_val = max(new_parent_val, arr[right_child_index])\n",
    "            \n",
    "        if parent_val >= new_parent_val:\n",
    "            break\n",
    "        elif left_in_bounds and new_parent_val == arr[left_child_index]: \n",
    "            arr[parent_index] = new_parent_val\n",
    "            arr[left_child_index] = parent_val\n",
    "            parent_index = left_child_index \n",
    "        elif right_in_bounds and new_parent_val == arr[right_child_index]:\n",
    "            arr[parent_index] = new_parent_val\n",
    "            arr[right_child_index] = parent_val\n",
    "            parent_index = right_child_index\n",
    "        \n",
    "        print(\"new parent value\", new_parent_val)\n",
    "        print(\"new parent\", parent_index)\n",
    "    \n",
    "    print(\"before swap\", arr)\n",
    "    # swap the values at arr[0] and arr[len(arr) - 1]\n",
    "    temp = arr[0] # current max value in array \n",
    "    arr[0] = arr[n - 1] \n",
    "    arr[n - 1] = temp \n",
    "    \n",
    "    # decrement the size of the array\n",
    "    n -= 1\n",
    "    \n",
    "    print(\"after swap\", arr)\n",
    "    # call heapify again, passing in arr, len(arr) - 1 (because the last element is already sorted), i\n",
    "    heapify(arr, n, i)\n",
    "        "
   ]
  },
  {
   "cell_type": "markdown",
   "metadata": {
    "graffitiCellId": "id_1h50lwk"
   },
   "source": [
    "<span class=\"graffiti-highlight graffiti-id_1h50lwk-id_kuae7he\"><i></i><button>Hide Solution</button></span>"
   ]
  },
  {
   "cell_type": "code",
   "execution_count": 21,
   "metadata": {
    "graffitiCellId": "id_kuae7he"
   },
   "outputs": [],
   "source": [
    "# Solution\n",
    "\n",
    "def heapify(arr, n, i):\n",
    "    # Using i as the index of the current node, find the 2 child nodes (if the array were a binary tree)\n",
    "    # and find the largest value.   If one of the children is larger swap the values and recurse into that subree\n",
    "    \n",
    "    # consider current index as largest\n",
    "    largest_index = i \n",
    "    left_node = 2 * i + 1     \n",
    "    right_node = 2 * i + 2     \n",
    "  \n",
    "    # compare with left child\n",
    "    if left_node < n and arr[i] < arr[left_node]: \n",
    "        largest_index = left_node\n",
    "  \n",
    "    # compare with right child\n",
    "    if right_node < n and arr[largest_index] < arr[right_node]: \n",
    "        largest_index = right_node\n",
    "  \n",
    "    # if either of left / right child is the largest node\n",
    "    if largest_index != i: \n",
    "        arr[i], arr[largest_index] = arr[largest_index], arr[i] \n",
    "    \n",
    "        heapify(arr, n, largest_index) \n",
    "        \n",
    "def heapsort(arr):\n",
    "    # First convert the array into a maxheap by calling heapify on each node, starting from the end   \n",
    "    # now that you have a maxheap, you can swap the first element (largest) to the end (final position)\n",
    "    # and make the array minus the last element into maxheap again.  Continue to do this until the whole\n",
    "    # array is sorted\n",
    "    n = len(arr) \n",
    "    \n",
    "    print(\"arr\", arr)\n",
    "  \n",
    "    # Build a maxheap. \n",
    "    for i in range(n, -1, -1): \n",
    "        heapify(arr, n, i) \n",
    "\n",
    "    print(\"build max heap\", arr)\n",
    "    \n",
    "    # One by one extract elements \n",
    "    for i in range(n-1, 0, -1): \n",
    "        print(\"swap elements\", arr, \"i:\", i)\n",
    "        arr[i], arr[0] = arr[0], arr[i] # swap \n",
    "        heapify(arr, i, 0) "
   ]
  },
  {
   "cell_type": "code",
   "execution_count": 22,
   "metadata": {},
   "outputs": [],
   "source": [
    "def test_function(test_case):\n",
    "    heapsort(test_case[0])\n",
    "    if test_case[0] == test_case[1]:\n",
    "        print(\"Pass\")\n",
    "    else:\n",
    "        print(\"False\")"
   ]
  },
  {
   "cell_type": "code",
   "execution_count": 23,
   "metadata": {
    "graffitiCellId": "id_5z02ebi"
   },
   "outputs": [
    {
     "name": "stdout",
     "output_type": "stream",
     "text": [
      "arr [3, 7, 4, 6, 1, 0, 9, 8, 9, 4, 3, 5]\n",
      "build max heap [9, 8, 9, 7, 4, 5, 4, 3, 6, 1, 3, 0]\n",
      "swap elements [9, 8, 9, 7, 4, 5, 4, 3, 6, 1, 3, 0] i: 11\n",
      "swap elements [9, 8, 5, 7, 4, 0, 4, 3, 6, 1, 3, 9] i: 10\n",
      "swap elements [8, 7, 5, 6, 4, 0, 4, 3, 3, 1, 9, 9] i: 9\n",
      "swap elements [7, 6, 5, 3, 4, 0, 4, 1, 3, 8, 9, 9] i: 8\n",
      "swap elements [6, 4, 5, 3, 3, 0, 4, 1, 7, 8, 9, 9] i: 7\n",
      "swap elements [5, 4, 4, 3, 3, 0, 1, 6, 7, 8, 9, 9] i: 6\n",
      "swap elements [4, 3, 4, 1, 3, 0, 5, 6, 7, 8, 9, 9] i: 5\n",
      "swap elements [4, 3, 0, 1, 3, 4, 5, 6, 7, 8, 9, 9] i: 4\n",
      "swap elements [3, 3, 0, 1, 4, 4, 5, 6, 7, 8, 9, 9] i: 3\n",
      "swap elements [3, 1, 0, 3, 4, 4, 5, 6, 7, 8, 9, 9] i: 2\n",
      "swap elements [1, 0, 3, 3, 4, 4, 5, 6, 7, 8, 9, 9] i: 1\n",
      "Pass\n"
     ]
    }
   ],
   "source": [
    "arr = [3, 7, 4, 6, 1, 0, 9, 8, 9, 4, 3, 5]\n",
    "solution = [0, 1, 3, 3, 4, 4, 5, 6, 7, 8, 9, 9]\n",
    "\n",
    "test_case = [arr, solution]\n",
    "\n",
    "test_function(test_case)\n"
   ]
  },
  {
   "cell_type": "code",
   "execution_count": 15,
   "metadata": {},
   "outputs": [
    {
     "name": "stdout",
     "output_type": "stream",
     "text": [
      "Pass\n"
     ]
    }
   ],
   "source": [
    "arr = [5, 5, 5, 3, 3, 3, 4, 4, 4, 4]\n",
    "solution = [3, 3, 3, 4, 4, 4, 4, 5, 5, 5]\n",
    "test_case = [arr, solution]\n",
    "test_function(test_case)\n"
   ]
  },
  {
   "cell_type": "code",
   "execution_count": 16,
   "metadata": {},
   "outputs": [
    {
     "name": "stdout",
     "output_type": "stream",
     "text": [
      "Pass\n"
     ]
    }
   ],
   "source": [
    "arr = [99]\n",
    "solution = [99]\n",
    "test_case = [arr, solution]\n",
    "test_function(test_case)\n"
   ]
  },
  {
   "cell_type": "code",
   "execution_count": 17,
   "metadata": {},
   "outputs": [
    {
     "name": "stdout",
     "output_type": "stream",
     "text": [
      "Pass\n"
     ]
    }
   ],
   "source": [
    "arr = [0, 1, 2, 5, 12, 21, 0]\n",
    "solution = [0, 0, 1, 2, 5, 12, 21]\n",
    "test_case = [arr, solution]\n",
    "test_function(test_case)\n"
   ]
  },
  {
   "cell_type": "code",
   "execution_count": null,
   "metadata": {
    "graffitiCellId": "id_aozz5za"
   },
   "outputs": [],
   "source": []
  }
 ],
 "metadata": {
  "graffiti": {
   "firstAuthorId": "10694620118",
   "id": "id_57afwqr",
   "language": "EN"
  },
  "kernelspec": {
   "display_name": "Python 3",
   "language": "python",
   "name": "python3"
  },
  "language_info": {
   "codemirror_mode": {
    "name": "ipython",
    "version": 3
   },
   "file_extension": ".py",
   "mimetype": "text/x-python",
   "name": "python",
   "nbconvert_exporter": "python",
   "pygments_lexer": "ipython3",
   "version": "3.6.3"
  }
 },
 "nbformat": 4,
 "nbformat_minor": 2
}
