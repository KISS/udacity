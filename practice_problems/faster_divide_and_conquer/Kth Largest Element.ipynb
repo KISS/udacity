{
 "cells": [
  {
   "cell_type": "markdown",
   "metadata": {
    "graffitiCellId": "id_lyoik70"
   },
   "source": [
    "### Problem Statement\n",
    "Given an unsorted array `Arr` with `n` positive integers. Find the $k^{th}$ smallest element in the given array, using Divide & Conquer approach. \n",
    "\n",
    "**Input**: Unsorted array `Arr` and an integer `k` where $1 \\leq k \\leq n$ <br>\n",
    "**Output**: The $k^{th}$ smallest element of array `Arr`<br>\n",
    "\n",
    "\n",
    "**Example 1**<br>\n",
    "Arr = `[6, 80, 36, 8, 23, 7, 10, 12, 42, 99]`<br>\n",
    "k = `10`<br>\n",
    "Output = `99`<br>\n",
    "\n",
    "**Example 2**<br>\n",
    "Arr = `[6, 80, 36, 8, 23, 7, 10, 12, 42, 99]`<br>\n",
    "k = `5`<br>\n",
    "Output = `12`<br>\n",
    "\n",
    "---\n",
    "\n",
    "### The Pseudocode - `fastSelect(Arr, k)`\n",
    "1. Break `Arr` into $\\frac{n}{5}$ (actually it is $\\left \\lceil{\\frac{n}{5}} \\right \\rceil $) groups, namely $G_1, G_2, G_3...G_{\\frac{n}{5}}$\n",
    "\n",
    "\n",
    "2. For each group $G_i, \\forall 1 \\leq i \\leq \\frac{n}{5} $, do the following:\n",
    " - Sort the group $G_i$\n",
    " - Find the middle position i.e., median $m_i$ of group $G_i$\n",
    " - Add $m_i$ to the set of medians **$S$**\n",
    "\n",
    "\n",
    "3. The set of medians **$S$** will become as $S = \\{m_1, m_2, m_3...m_{\\frac{n}{5}}\\}$. The \"good\" `pivot` element will be the median of the set **$S$**. We can find it as $pivot = fastSelect(S, \\frac{n}{10})$. \n",
    "\n",
    "\n",
    "4. Partition the original `Arr` into three sub-arrays - `Arr_Less_P`, `Arr_Equal_P`, and `Arr_More_P` having elements less than `pivot`, equal to `pivot`, and bigger than `pivot` **respectively**.\n",
    "\n",
    "\n",
    "5. Recurse based on the **sizes of the three sub-arrays**, we will either recursively search in the small set, or the big set, as defined in the following conditions:\n",
    " - If `k <= length(Arr_Less_P)`, then return `fastSelect(Arr_Less_P, k)`. This means that if the size of the \"small\" sub-array is at least as large as `k`, then we know that our desired $k^{th}$ smallest element lies in this sub-array. Therefore recursively call the same function on the \"small\" sub-array. <br><br>\n",
    " \n",
    " - If `k > (length(Arr_Less_P) + length(Arr_Equal_P))`, then return `fastSelect(Arr_More_P, (k - length(Arr_Less_P) - length(Arr_Equal_P)))`. This means that if `k` is more than the size of \"small\" and \"equal\" sub-arrays, then our desired $k^{th}$ smallest element lies in \"bigger\" sub-array. <br><br>\n",
    " \n",
    " - Return `pivot` otherwise. This means that if the above two cases do not hold true, then we know that $k^{th}$ smallest element lies in the \"equal\" sub-array.\n",
    " \n",
    "---\n",
    "### Exercise - Write the function definition here"
   ]
  },
  {
   "cell_type": "code",
   "execution_count": 38,
   "metadata": {
    "graffitiCellId": "id_67f82ik"
   },
   "outputs": [],
   "source": [
    "def fastSelect(arr, k):\n",
    "    '''TO DO'''\n",
    "    # Implement the algorithm explained above to find the k^th largest element in the given array\n",
    "    \n",
    "    # base case\n",
    "    if len(arr) < 1:\n",
    "        return\n",
    "    \n",
    "    if len(arr) == 1:\n",
    "        return arr[0]\n",
    "    \n",
    "    num_groups = round(len(arr) / 5)\n",
    "    groups = []\n",
    "    start_index = 0 \n",
    "    \n",
    "    median_elements = []\n",
    "    \n",
    "    print(\"len arr:\", len(arr), \"num groups\", num_groups)\n",
    "    \n",
    "    if num_groups > 0:\n",
    "        # split the array into groups \n",
    "        for i in range(num_groups):\n",
    "            end_index = start_index + len(arr) // num_groups\n",
    "            group = arr[start_index:end_index + 1]\n",
    "            groups.append(group)\n",
    "            start_index = end_index + 1\n",
    "            \n",
    "        print(\"groups\", groups)\n",
    "            \n",
    "        # find median element \n",
    "        for group in groups: \n",
    "            # sort sub-array \n",
    "            group.sort()\n",
    "            # get median \n",
    "            median_index = round(len(group) / 2)\n",
    "            # get median element and add it to the set\n",
    "            median_elements.append(group[median_index])\n",
    "        \n",
    "    else:\n",
    "        # array has less than 5 elements, so just sort right away \n",
    "        arr.sort()\n",
    "        \n",
    "        # find median element \n",
    "        median_index = round(len(arr) / 2)\n",
    "        \n",
    "        # get median element and add it to the set\n",
    "        median_elements.append(arr[median_index])\n",
    "        \n",
    "    print(\"median_elements\", median_elements)\n",
    "    \n",
    "    print(\"pivot_value\", round(len(arr)/10))\n",
    "    \n",
    "    pivot_value = fastSelect(median_elements, round(len(arr)/10))    \n",
    "    \n",
    "    partition_less = []\n",
    "    partition_equal = []\n",
    "    partition_greater = []\n",
    "    for i in range(len(arr)):\n",
    "        if arr[i] < pivot_value:\n",
    "            partition_less.append(arr[i])\n",
    "        elif arr[i] > pivot_value:\n",
    "            partition_greater.append(arr[i])\n",
    "        else:\n",
    "            partition_equal.append(arr[i])\n",
    "            \n",
    "            \n",
    "    if k <= len(partition_less):\n",
    "        return fastSelect(partition_less, k)\n",
    "    \n",
    "    elif k > len(partition_less) + len(partition_equal):\n",
    "        new_k = k - len(partition_less) - len(partition_equal)\n",
    "        return fastSelect(partition_greater, new_k)\n",
    "\n",
    "    else: \n",
    "        return pivot_value"
   ]
  },
  {
   "cell_type": "markdown",
   "metadata": {
    "graffitiCellId": "id_dsq4qxt"
   },
   "source": [
    "<span class=\"graffiti-highlight graffiti-id_dsq4qxt-id_29dh0dm\"><i></i><button>Hide Solution</button></span>"
   ]
  },
  {
   "cell_type": "code",
   "execution_count": null,
   "metadata": {
    "graffitiCellId": "id_29dh0dm"
   },
   "outputs": [],
   "source": [
    "def fastSelect(Arr, k):                         # k is an index\n",
    "    n = len(Arr)                                # length of the original array\n",
    "    \n",
    "    if(k>0 and k <= n):                         # k should be a valid index         \n",
    "        # Helper variables\n",
    "        setOfMedians = []\n",
    "        Arr_Less_P = []\n",
    "        Arr_Equal_P = []\n",
    "        Arr_More_P = []\n",
    "        i = 0\n",
    "        \n",
    "        # Step 1 - Break Arr into groups of size 5\n",
    "        # Step 2 - For each group, sort and find median (middle). Add the median to setOfMedians\n",
    "        while (i < n // 5):                     # n//5 gives the integer quotient of the division \n",
    "            median = findMedian(Arr, 5*i, 5)    # find median of each group of size 5\n",
    "            setOfMedians.append(median)         \n",
    "            i += 1\n",
    "\n",
    "        # If n is not a multiple of 5, then a last group with size = n % 5 will be formed\n",
    "        if (5*i < n): \n",
    "            median = findMedian(Arr, 5*i, n % 5)\n",
    "            setOfMedians.append(median)\n",
    "        \n",
    "        # Step 3 - Find the median of setOfMedians\n",
    "        if (len(setOfMedians) == 1):            # Base case for this task\n",
    "            pivot = setOfMedians[0]\n",
    "        elif (len(setOfMedians)>1):\n",
    "            pivot = fastSelect(setOfMedians, (len(setOfMedians)//2))\n",
    "        \n",
    "        # Step 4 - Partition the original Arr into three sub-arrays\n",
    "        for element in Arr:\n",
    "            if (element<pivot):\n",
    "                Arr_Less_P.append(element)\n",
    "            elif (element>pivot):\n",
    "                Arr_More_P.append(element)\n",
    "            else:\n",
    "                Arr_Equal_P.append(element)\n",
    "        \n",
    "        # Step 5 - Recurse based on the sizes of the three sub-arrays\n",
    "        if (k <= len(Arr_Less_P)):\n",
    "            return fastSelect(Arr_Less_P, k)\n",
    "        \n",
    "        elif (k > (len(Arr_Less_P) + len(Arr_Equal_P))):\n",
    "            return fastSelect(Arr_More_P, (k - len(Arr_Less_P) - len(Arr_Equal_P)))\n",
    "            \n",
    "        else:\n",
    "            return pivot     \n",
    "\n",
    "# Helper function\n",
    "def findMedian(Arr, start, size): \n",
    "    myList = [] \n",
    "    for i in range(start, start + size): \n",
    "        myList.append(Arr[i]) \n",
    "          \n",
    "    # Sort the array  \n",
    "    myList.sort() \n",
    "  \n",
    "    # Return the middle element \n",
    "    return myList[size // 2] "
   ]
  },
  {
   "cell_type": "markdown",
   "metadata": {
    "graffitiCellId": "id_mhdbx0f"
   },
   "source": [
    "### Test - Let's test your function"
   ]
  },
  {
   "cell_type": "code",
   "execution_count": 39,
   "metadata": {
    "graffitiCellId": "id_bgck2hk"
   },
   "outputs": [
    {
     "name": "stdout",
     "output_type": "stream",
     "text": [
      "len arr: 9 num groups 2\n",
      "groups [[6, 80, 36, 8, 23], [7, 10, 12, 42]]\n",
      "median_elements [23, 12]\n",
      "pivot_value 1\n",
      "len arr: 2 num groups 0\n",
      "median_elements [23]\n",
      "pivot_value 0\n",
      "12\n"
     ]
    }
   ],
   "source": [
    "Arr = [6, 80, 36, 8, 23, 7, 10, 12, 42]\n",
    "k = 5\n",
    "print(fastSelect(Arr, k))        # Outputs 12"
   ]
  },
  {
   "cell_type": "code",
   "execution_count": 40,
   "metadata": {
    "graffitiCellId": "id_32omxhm"
   },
   "outputs": [
    {
     "name": "stdout",
     "output_type": "stream",
     "text": [
      "len arr: 9 num groups 2\n",
      "groups [[5, 2, 20, 17, 11], [13, 8, 9, 11]]\n",
      "median_elements [11, 11]\n",
      "pivot_value 1\n",
      "len arr: 2 num groups 0\n",
      "median_elements [11]\n",
      "pivot_value 0\n",
      "11\n"
     ]
    }
   ],
   "source": [
    "Arr = [5, 2, 20, 17, 11, 13, 8, 9, 11]\n",
    "k = 5\n",
    "print(fastSelect(Arr, k))        # Outputs 11"
   ]
  },
  {
   "cell_type": "code",
   "execution_count": 41,
   "metadata": {
    "graffitiCellId": "id_h9nihqx"
   },
   "outputs": [
    {
     "name": "stdout",
     "output_type": "stream",
     "text": [
      "len arr: 10 num groups 2\n",
      "groups [[6, 80, 36, 8, 23, 7], [10, 12, 42, 99]]\n",
      "median_elements [23, 42]\n",
      "pivot_value 1\n",
      "len arr: 2 num groups 0\n",
      "median_elements [42]\n",
      "pivot_value 0\n",
      "len arr: 4 num groups 1\n",
      "groups [[80, 36, 42, 99]]\n",
      "median_elements [80]\n",
      "pivot_value 0\n",
      "99\n"
     ]
    }
   ],
   "source": [
    "Arr = [6, 80, 36, 8, 23, 7, 10, 12, 42, 99]\n",
    "k = 10\n",
    "print(fastSelect(Arr, k))        # Outputs 99"
   ]
  },
  {
   "cell_type": "code",
   "execution_count": null,
   "metadata": {
    "graffitiCellId": "id_wq4i6l1"
   },
   "outputs": [],
   "source": []
  }
 ],
 "metadata": {
  "graffiti": {
   "firstAuthorId": "af9e0b36-2ad2-11ea-83c4-a78dc7ef519f",
   "id": "id_xuzb5il",
   "language": "EN"
  },
  "kernelspec": {
   "display_name": "Python 3",
   "language": "python",
   "name": "python3"
  },
  "language_info": {
   "codemirror_mode": {
    "name": "ipython",
    "version": 3
   },
   "file_extension": ".py",
   "mimetype": "text/x-python",
   "name": "python",
   "nbconvert_exporter": "python",
   "pygments_lexer": "ipython3",
   "version": "3.6.3"
  }
 },
 "nbformat": 4,
 "nbformat_minor": 2
}
