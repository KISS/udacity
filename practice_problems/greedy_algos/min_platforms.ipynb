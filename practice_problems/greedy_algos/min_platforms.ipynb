{
 "cells": [
  {
   "cell_type": "markdown",
   "metadata": {
    "graffitiCellId": "id_m2e34is"
   },
   "source": [
    "## Problem Statement\n",
    "\n",
    "Given arrival and departure times of trains on a single day in a railway platform, **find out the minimum number of platforms required** so that no train has to wait for the other(s) to leave. *In other words, when a train is about to arrive, at least one platform must be available to accommodate it.* \n",
    "\n",
    "You will be given arrival and departure times both in the form of a list. The size of both the lists will be equal, with each common index representing the same train. Note: Time `hh:mm` would be written as integer `hhmm` for e.g. `9:30` would be written as `930`. Similarly, `13:45` would be given as `1345`\n",
    "\n",
    "**Example:**<br>\n",
    "Input:  A schedule of 6 trains:\n",
    "```\n",
    "arrival = [900,  940, 950,  1100, 1500, 1800]\n",
    "departure = [910, 1200, 1120, 1130, 1900, 2000]\n",
    "```\n",
    "Expected output: Minimum number of platforms required = 3\n"
   ]
  },
  {
   "cell_type": "markdown",
   "metadata": {
    "graffitiCellId": "id_ts5q0sh"
   },
   "source": [
    "### The greedy approach: \n",
    "Sort the schedule, and make sure when a train arrives or departs, keep track of the required number of platforms. We will have iterators `i` and `j` traversing the arrival and departure lists respectively. At any moment, the difference `(i - j)` will provide us the required number of platforms. \n",
    "    \n",
    "At the time of either arrival or departure of a train, if `i^th` arrival is scheduled before the `j^th` departure, increment the `platform_required` and `i` as well. Otherwise, decrement `platform_required` count, and increase `j`. Keep track of the **max** value of `platform_required` ever, as the expected result. \n",
    "    \n"
   ]
  },
  {
   "cell_type": "code",
   "execution_count": 28,
   "metadata": {
    "graffitiCellId": "id_wvs8xy1"
   },
   "outputs": [],
   "source": [
    "def min_platforms(arrival, departure):\n",
    "    \"\"\"\n",
    "    :param: arrival - list of arrival time\n",
    "    :param: departure - list of departure time\n",
    "    TODO - complete this method and return the minimum number of platforms (int) required\n",
    "    so that no train has to wait for other(s) to leave\n",
    "    \"\"\"\n",
    "    arrival.sort()\n",
    "    departure.sort() \n",
    "    \n",
    "    platforms_required = 0  # 1 .. 0 .. 1 .. 2 .. 3 .. 2 .. 1 .. 0 .. 1 .. 2\n",
    "    result = platforms_required  # 0 .. 1 .. 2 .. 3\n",
    "    \n",
    "    i = 0   #  1 .. 2 .. 3 .. 4 .. 5 .. 6\n",
    "    j = 0   #  1 .. 2 .. 3 .. 4 \n",
    "     \n",
    "    # arrival   = [900, 940,  950,  1100, 1500, 1800]\n",
    "    # departure = [910, 1120, 1130, 1200, 1900, 2000]\n",
    "\n",
    "    # arrival[i]   = 900 .. 940  .. 950  .. 1100 .. 1500 .. 1800\n",
    "    # departure[j] = 910 .. 1120 .. 1130 .. 1200 .. 1900\n",
    "    \n",
    "    while i < len(arrival) and j < len(departure): \n",
    "        if arrival[i] < departure[j]:\n",
    "            i += 1\n",
    "            platforms_required += 1\n",
    "        else:   \n",
    "            j += 1\n",
    "            platforms_required -= 1\n",
    "            \n",
    "        result = max(result, platforms_required)      \n",
    "            \n",
    "    # print(result, platforms_required)\n",
    "    \n",
    "    return result"
   ]
  },
  {
   "cell_type": "markdown",
   "metadata": {
    "graffitiCellId": "id_khuho24"
   },
   "source": [
    "<span class=\"graffiti-highlight graffiti-id_khuho24-id_mgzo0p4\"><i></i><button>Show Solution</button></span>"
   ]
  },
  {
   "cell_type": "code",
   "execution_count": 22,
   "metadata": {
    "graffitiCellId": "id_z8cclxx"
   },
   "outputs": [],
   "source": [
    "def test_function(test_case):\n",
    "    arrival = test_case[0]\n",
    "    departure = test_case[1]\n",
    "    solution = test_case[2]\n",
    "    \n",
    "    output = min_platforms(arrival, departure)\n",
    "    if output == solution:\n",
    "        print(\"Pass\")\n",
    "    else:\n",
    "        print(\"Fail\")"
   ]
  },
  {
   "cell_type": "code",
   "execution_count": 29,
   "metadata": {
    "graffitiCellId": "id_3y01n63"
   },
   "outputs": [
    {
     "name": "stdout",
     "output_type": "stream",
     "text": [
      "Pass\n"
     ]
    }
   ],
   "source": [
    "arrival = [900,  940, 950,  1100, 1500, 1800]\n",
    "departure = [910, 1200, 1120, 1130, 1900, 2000]\n",
    "test_case = [arrival, departure, 3]\n",
    "\n",
    "test_function(test_case)"
   ]
  },
  {
   "cell_type": "code",
   "execution_count": 30,
   "metadata": {
    "graffitiCellId": "id_sdzncbd"
   },
   "outputs": [
    {
     "name": "stdout",
     "output_type": "stream",
     "text": [
      "Pass\n"
     ]
    }
   ],
   "source": [
    "arrival = [200, 210, 300, 320, 350, 500]\n",
    "departure = [230, 340, 320, 430, 400, 520]\n",
    "test_case = [arrival, departure, 2]\n",
    "test_function(test_case)"
   ]
  },
  {
   "cell_type": "code",
   "execution_count": null,
   "metadata": {
    "graffitiCellId": "id_bpg9pi4"
   },
   "outputs": [],
   "source": []
  }
 ],
 "metadata": {
  "graffiti": {
   "firstAuthorId": "dev",
   "id": "id_zzreyx5",
   "language": "EN"
  },
  "kernelspec": {
   "display_name": "Python 3",
   "language": "python",
   "name": "python3"
  },
  "language_info": {
   "codemirror_mode": {
    "name": "ipython",
    "version": 3
   },
   "file_extension": ".py",
   "mimetype": "text/x-python",
   "name": "python",
   "nbconvert_exporter": "python",
   "pygments_lexer": "ipython3",
   "version": "3.6.3"
  }
 },
 "nbformat": 4,
 "nbformat_minor": 2
}
