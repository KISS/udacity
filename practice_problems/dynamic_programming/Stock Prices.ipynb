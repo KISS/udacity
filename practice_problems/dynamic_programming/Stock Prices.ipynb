{
 "cells": [
  {
   "cell_type": "markdown",
   "metadata": {
    "graffitiCellId": "id_pv982ru"
   },
   "source": [
    "# Stock Prices"
   ]
  },
  {
   "cell_type": "markdown",
   "metadata": {
    "collapsed": true,
    "graffitiCellId": "id_qto2uz2"
   },
   "source": [
    "You are given access to yesterday's stock prices for a single stock. The data is in the form of an array with the stock price in 30 minute intervals from 9:30 a.m EST opening to 4:00 p.m EST closing time. With this data, write a function that returns the maximum profit obtainable. You will need to buy before you can sell.\n",
    "\n",
    "For example, suppose you have the following prices:\n",
    "\n",
    "`prices = [3, 4, 7, 8, 6]`\n",
    "\n",
    ">Note: This is a shortened array, just for the sake of example—a full set of prices for the day would have 13 elements (one price for each 30 minute interval betwen 9:30 and 4:00), as seen in the test cases further down in this notebook.\n",
    "\n",
    "In order to get the maximum profit in this example, you would want to buy at a price of 3 and sell at a price of 8 to yield a maximum profit of 5. In other words, you are looking for the greatest possible difference between two numbers in the array.\n",
    "\n",
    "\n",
    "### The Idea\n",
    "The given array has the prices of a single stock at 13 different timestamps. The idea is to pick two timestamps:\n",
    "\"buy_at_min\" and \"sell_at_max\" such that the buy is made before a sell. We will use two pairs of indices while traversing the array: \n",
    "* **Pair 1** - This pair keeps track of our maximum profit while iterating over the list. It is done by storing a pair of indices - `min_price_index`, and `max_price_index`. \n",
    "* **Pair 2** -  This pair keeps track of the profit between the lowest price seen so far and the current price while traversing the array. The lowest price seen so far is maintained with `current_min_price_index`.\n",
    "\n",
    "At each step we will make the greedy choice by choosing prices such that our profit is maximum. We will return the **maximum of either of the two profits mentioned above**. \n",
    "\n",
    "  \n",
    "    \n",
    "\n",
    "### Exercise - Write the function definition here\n",
    "Fill out the function below and run it against the test cases. Take into consideration the time complexity of your solution. "
   ]
  },
  {
   "cell_type": "code",
   "execution_count": 45,
   "metadata": {
    "graffitiCellId": "id_z7ws71z"
   },
   "outputs": [],
   "source": [
    "def max_returns(prices):\n",
    "    \"\"\"\n",
    "    Calculate maxiumum possible return\n",
    "    \n",
    "    Args:\n",
    "       prices(array): array of prices\n",
    "    Returns:\n",
    "       int: The maximum profit possible\n",
    "    \"\"\"\n",
    "    min_buy_price = float('inf')        \n",
    "    max_sell_price = float('-inf')      \n",
    "    profit = 0\n",
    "    \n",
    "    buy_index = 0 \n",
    "    sell_index = 1\n",
    "    \n",
    "    # [78, 54, 45, 37, 34, 23, 18, 12, 9, 9, 7, 2, 2]\n",
    "    # buy_price  =  inf .. 78 .. 54 .. 45\n",
    "    # sell_price = -inf .. 54 .. 54 .. 54\n",
    "    \n",
    "    # buy index  = 0 .. 1 .. 2\n",
    "    # sell index = 1 .. 2 .. 3\n",
    "    \n",
    "    # profit     = 0 \n",
    "        \n",
    "    while sell_index < len(prices): \n",
    "        # update min buy price\n",
    "        if prices[buy_index] < min_buy_price:\n",
    "            min_buy_price = prices[buy_index]\n",
    "        \n",
    "        # update max sell price \n",
    "        if prices[sell_index] > max_sell_price and prices[sell_index] > min_buy_price:\n",
    "            max_sell_price = prices[sell_index]\n",
    "        \n",
    "        # update profit \n",
    "        profit = max(profit, max_sell_price - min_buy_price)\n",
    "        \n",
    "        # increment pointers \n",
    "        sell_index += 1\n",
    "        buy_index += 1\n",
    "\n",
    "    print(profit)\n",
    "    return profit "
   ]
  },
  {
   "cell_type": "markdown",
   "metadata": {
    "graffitiCellId": "id_uc722im"
   },
   "source": [
    "<span class=\"graffiti-highlight graffiti-id_uc722im-id_o4cterg\"><i></i><button>Show Solution</button></span>"
   ]
  },
  {
   "cell_type": "markdown",
   "metadata": {
    "graffitiCellId": "id_nltrcf9"
   },
   "source": [
    "### Test - Let's test your function"
   ]
  },
  {
   "cell_type": "code",
   "execution_count": 40,
   "metadata": {
    "graffitiCellId": "id_plirn7n"
   },
   "outputs": [],
   "source": [
    "# Test Cases\n",
    "def test_function(test_case):\n",
    "    prices = test_case[0]\n",
    "    solution = test_case[1]\n",
    "    output = max_returns(prices)\n",
    "    if output == solution:\n",
    "        print(\"Pass\")\n",
    "    else:\n",
    "        print(\"Fail\")"
   ]
  },
  {
   "cell_type": "code",
   "execution_count": 46,
   "metadata": {},
   "outputs": [
    {
     "name": "stdout",
     "output_type": "stream",
     "text": [
      "76\n",
      "Pass\n"
     ]
    }
   ],
   "source": [
    "prices = [2, 2, 7, 9, 9, 12, 18, 23, 34, 37, 45, 54, 78]\n",
    "solution = 76\n",
    "test_case = [prices, solution]\n",
    "test_function(test_case)"
   ]
  },
  {
   "cell_type": "code",
   "execution_count": 47,
   "metadata": {},
   "outputs": [
    {
     "name": "stdout",
     "output_type": "stream",
     "text": [
      "66\n",
      "Pass\n"
     ]
    }
   ],
   "source": [
    "prices = [54, 18, 37, 9, 11, 48, 23, 1, 7, 34, 2, 45, 67]\n",
    "solution = 66\n",
    "test_case = [prices, solution]\n",
    "test_function(test_case)"
   ]
  },
  {
   "cell_type": "code",
   "execution_count": 48,
   "metadata": {},
   "outputs": [
    {
     "name": "stdout",
     "output_type": "stream",
     "text": [
      "52\n",
      "Fail\n"
     ]
    }
   ],
   "source": [
    "prices = [78, 54, 45, 37, 34, 23, 18, 12, 9, 9, 7, 2, 2]\n",
    "solution = 0\n",
    "test_case = [prices, solution]\n",
    "test_function(test_case)"
   ]
  },
  {
   "cell_type": "code",
   "execution_count": null,
   "metadata": {
    "graffitiCellId": "id_6oamopo"
   },
   "outputs": [],
   "source": []
  }
 ],
 "metadata": {
  "graffiti": {
   "firstAuthorId": "10694620118",
   "id": "id_43ea6fg",
   "language": "EN"
  },
  "kernelspec": {
   "display_name": "Python 3",
   "language": "python",
   "name": "python3"
  },
  "language_info": {
   "codemirror_mode": {
    "name": "ipython",
    "version": 3
   },
   "file_extension": ".py",
   "mimetype": "text/x-python",
   "name": "python",
   "nbconvert_exporter": "python",
   "pygments_lexer": "ipython3",
   "version": "3.6.3"
  },
  "widgets": {
   "state": {},
   "version": "1.1.2"
  }
 },
 "nbformat": 4,
 "nbformat_minor": 2
}
