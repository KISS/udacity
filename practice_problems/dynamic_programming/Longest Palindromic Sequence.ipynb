{
 "cells": [
  {
   "cell_type": "markdown",
   "metadata": {
    "graffitiCellId": "id_m5u9j4m"
   },
   "source": [
    "# Longest Palindromic Subsequence\n",
    "\n",
    "In general, a palindrome is a string that reads the same backwards as forwards, e.g., `MADAM`. In the last notebook, we saw that in a given string, a subsequence is an ordered set of characters that need not necessarily be a contiguous substring, e.g., `ABC` is a subsequence in `AXBYC` with `length = 3`. \n",
    "\n",
    "The **Longest Palindromic Subsequence** (LPS) is the most lengthy sequence of characters that is a palindrome. In this notebook, you'll be tasked with finding the **length of the LPS in a given string of characters**.\n",
    "\n",
    "Examples:\n",
    "1. With an input string, `MAXDYAM`, the LPS is `MADAM`, which has `length = 5`\n",
    "1. With an input string, `BxAoNxAoNxA`, the LPS is `ANANA`, which has `length = 5`\n",
    "1. With an input string, `BANANO`, the LPS is `NAN`, which has `length = 3`\n",
    "1. With an input string, `ABBDBCACB`, the LPS is `BCACB`, which has `length = 5`\n",
    "\n",
    "In this notebook, we'll focus on finding an optimal solution to finding the length of the LPS task, using dynamic programming. There will be some similarities to the Longest Common Subsequence (LCS) task, which is outlined in detail in a previous notebook. It is recommended that you start with that notebook before trying out this task.\n",
    "\n",
    "## Dynamic Programming Approach - Storing Pre-Computed Values\n",
    "\n",
    "Similar to how you compared **two strings** in the LCS (Longest Common Subsequence) task, you can compare the characters in just **one string** with itself, in this LPS task. \n",
    "\n",
    "* The LPS solution algorithm depends on how the characters of a given string are related to each other. \n",
    "\n",
    "* For a string of length *n* characters, you can build an `n x n` matrix. The 2-D matrix will have characters of the given string on the top as well as on the left side.\n",
    "\n",
    "* The matrix will store the solution to **smaller subproblems** first, and gradually adding up more characters to the problem. In this case, **a subproblem is to find the length of the LPS, up to a certain point in the string**. \n",
    "\n",
    "\n",
    "Read the rules below to fill up the matrix cells. "
   ]
  },
  {
   "cell_type": "markdown",
   "metadata": {
    "graffitiCellId": "id_mvw559p"
   },
   "source": [
    "\n",
    "### The Matrix Rules\n",
    "\n",
    "You can efficiently fill up this matrix one cell at a time. Each grid cell only depends on the values in the grid cells that are directly on bottom and to the left of it, or on the diagonal/bottom-left. The rules are as follows:\n",
    "* Start with an `n x n ` matrix where *n* is the number of characters in a given string. The diagonal cells should all have the value 1 for the base case, the rest can be zeros.\n",
    "* As you traverse your string:\n",
    "    * If there is a match, fill that grid cell with the value to the bottom-left of that cell ***plus two***.\n",
    "    * If there is not a match, take the ***maximum value*** from either directly to the left or the bottom cell, and carry that value over to the non-match cell.\n",
    "* After completely filling the matrix, ***the top-right cell will hold the final LPS length***.\n",
    "\n",
    "Note: The lower diagonal values will remain 0 in all cases.\n",
    "\n",
    "---\n",
    "\n",
    "It may be helpful to try filling up a matrix on paper before you start to code your solution. If you get stuck with this task, you may look at some example matrices below, before consulting the complete solution code."
   ]
  },
  {
   "cell_type": "markdown",
   "metadata": {
    "collapsed": true,
    "graffitiCellId": "id_muz0nks"
   },
   "source": [
    "### Example Matrices\n",
    "\n",
    "Example LPS Subproblem matrix 1:\n",
    "\n",
    "```\n",
    "input_string = 'BANANO'\n",
    "\n",
    "LPS subproblem matrix:\n",
    "  \n",
    "     B  A  N  A  N  O\n",
    "B  [[1, 1, 1, 3, 3, 3],\n",
    "A   [0, 1, 1, 3, 3, 3],\n",
    "N   [0, 0, 1, 1, 3, 3],\n",
    "A   [0, 0, 0, 1, 1, 1],\n",
    "N   [0, 0, 0, 0, 1, 1],\n",
    "O   [0, 0, 0, 0, 0, 1]]\n",
    "\n",
    "LPS length:  3\n",
    "```\n",
    "\n",
    "Example LPS Subproblem matrix 2:\n",
    "```\n",
    "input_string = 'TACOCAT'\n",
    "\n",
    "LPS subproblem matrix:\n",
    "\n",
    "     T  A  C  O  C  A  T\n",
    "T  [[1, 1, 1, 1, 3, 5, 7],\n",
    "A   [0, 1, 1, 1, 3, 5, 5],\n",
    "C   [0, 0, 1, 1, 3, 3, 3],\n",
    "O   [0, 0, 0, 1, 1, 1, 1],\n",
    "C   [0, 0, 0, 0, 1, 1, 1],\n",
    "A   [0, 0, 0, 0, 0, 1, 1],\n",
    "T   [0, 0, 0, 0, 0, 0, 1]]\n",
    "\n",
    "LPS length:  7\n",
    "```\n"
   ]
  },
  {
   "cell_type": "markdown",
   "metadata": {
    "graffitiCellId": "id_0wywkvj"
   },
   "source": [
    "### Exercise - Write the function definition here"
   ]
  },
  {
   "cell_type": "code",
   "execution_count": 95,
   "metadata": {
    "graffitiCellId": "id_m2kla9e"
   },
   "outputs": [],
   "source": [
    "def lps(input_string): \n",
    "    \n",
    "    # TODO: Complete this implementation of the LPS function\n",
    "    # The function should return one value: the LPS length for the given input string\n",
    "    \n",
    "    # initialize 2D n*n matrix\n",
    "    n = len(input_string)\n",
    "    matrix = [[0 for _ in range(n)] for _ in range(n)]\n",
    "\n",
    "    # traverse the string (row)\n",
    "    for i in range(n - 1, -1, -1):\n",
    "        # traverse the string (col)\n",
    "        for j in range(n - 1, -1, -1):\n",
    "            # initialize our row and col indices \n",
    "            row_index = i\n",
    "            col_index = j\n",
    "            \n",
    "            # validate our updated row and column indices \n",
    "            r = -1 \n",
    "            c = -1 \n",
    "\n",
    "            if row_index + 1 < n:\n",
    "                r = row_index + 1\n",
    "            if col_index - 1 >= 0:\n",
    "                c = col_index - 1\n",
    "            \n",
    "            # check if the chars match and update matrix accordingly \n",
    "            if input_string[i] == input_string[j]:\n",
    "                # if they match, set cell value equal to the value of the cell to its bottom-left + 2\n",
    "                if r > -1 and c > -1:\n",
    "                    matrix[row_index][col_index] = matrix[r][c] + 2\n",
    "                    \n",
    "                # if we're at a diagonal intersection, the value should be updated to 1 \n",
    "                if row_index == col_index:\n",
    "                    matrix[row_index][col_index] = 1\n",
    "            else:\n",
    "                # if they don't match, set the cell value equal to the max value between the cell \n",
    "                # directly to the left or below our current cell \n",
    "                max_value = 0 \n",
    "                \n",
    "                if r > -1 and c > -1:\n",
    "                    # calculate max value between the cell to the left and the cell below \n",
    "                    max_value = max(matrix[row_index][col_index - 1], matrix[row_index + 1][col_index])\n",
    "                elif r == -1 and c > -1:\n",
    "                    # if our new row is invalid, compare value of left cell to 0 \n",
    "                    max_value = matrix[row_index][col_index - 1]\n",
    "                elif c == -1 and r > -1:\n",
    "                    # if our new column is invalid, compare 0 to the value of the cell below \n",
    "                    max_value = matrix[row_index + 1][col_index]\n",
    "                \n",
    "                # update value of current cell to max value found \n",
    "                matrix[row_index][col_index] = max_value\n",
    "            \n",
    "#             print('\\nrow:', row_index, 'col:', col_index)\n",
    "#             print(\"matrix\", matrix)        \n",
    "    \n",
    "    # return the top-right-most cell value \n",
    "    return matrix[0][-1]\n"
   ]
  },
  {
   "cell_type": "markdown",
   "metadata": {
    "graffitiCellId": "id_d28fhk7"
   },
   "source": [
    "<span class=\"graffiti-highlight graffiti-id_d28fhk7-id_3yrlf09\"><i></i><button>Hide Solution</button></span>"
   ]
  },
  {
   "cell_type": "code",
   "execution_count": 74,
   "metadata": {
    "graffitiCellId": "id_3yrlf09"
   },
   "outputs": [],
   "source": [
    "## Solution\n",
    "\n",
    "# imports for printing a matrix, nicely\n",
    "import pprint\n",
    "pp = pprint.PrettyPrinter()\n",
    "\n",
    "# complete LPS solution\n",
    "def lps(input_string): \n",
    "    n = len(input_string) \n",
    "  \n",
    "    # create a lookup table to store results of subproblems \n",
    "    L = [[0 for x in range(n)] for x in range(n)] \n",
    "    \n",
    "    pp.pprint(L)\n",
    "  \n",
    "    # strings of length 1 have LPS length = 1\n",
    "    for i in range(n): \n",
    "        L[i][i] = 1 \n",
    "    pp.pprint(L)\n",
    "    \n",
    "    # consider all substrings\n",
    "    for s_size in range(2, n+1): \n",
    "        for start_idx in range(n-s_size+1): \n",
    "            end_idx = start_idx + s_size - 1\n",
    "            if s_size == 2 and input_string[start_idx] == input_string[end_idx]:\n",
    "                # match with a substring of length 2\n",
    "                L[start_idx][end_idx] = 2\n",
    "            elif input_string[start_idx] == input_string[end_idx]: \n",
    "                # general match case\n",
    "                L[start_idx][end_idx] = L[start_idx+1][end_idx-1] + 2\n",
    "            else:\n",
    "                # no match case, taking the max of two values\n",
    "                L[start_idx][end_idx] = max(L[start_idx][end_idx-1], L[start_idx+1][end_idx]); \n",
    "  \n",
    "    # debug line\n",
    "    # pp.pprint(L)\n",
    "    \n",
    "    return L[0][n-1] # value in top right corner of matrix"
   ]
  },
  {
   "cell_type": "markdown",
   "metadata": {
    "graffitiCellId": "id_xkuam8g"
   },
   "source": [
    "### Test - Let's test your function"
   ]
  },
  {
   "cell_type": "code",
   "execution_count": 2,
   "metadata": {
    "graffitiCellId": "id_zrl045w"
   },
   "outputs": [],
   "source": [
    "def test_function(test_case):\n",
    "    string = test_case[0]\n",
    "    solution = test_case[1]\n",
    "    output = lps(string)\n",
    "    print(output)\n",
    "    if output == solution:\n",
    "        print(\"Pass\")\n",
    "    else:\n",
    "        print(\"Fail\")"
   ]
  },
  {
   "cell_type": "code",
   "execution_count": 96,
   "metadata": {
    "graffitiCellId": "id_qwckonz"
   },
   "outputs": [
    {
     "name": "stdout",
     "output_type": "stream",
     "text": [
      "5\n",
      "Pass\n"
     ]
    }
   ],
   "source": [
    "string = 'BxAoNxAoNxA'\n",
    "solution = 5\n",
    "test_case = [string, solution]\n",
    "test_function(test_case)"
   ]
  },
  {
   "cell_type": "code",
   "execution_count": 97,
   "metadata": {
    "graffitiCellId": "id_pgp7moi"
   },
   "outputs": [
    {
     "name": "stdout",
     "output_type": "stream",
     "text": [
      "1\n",
      "Fail\n"
     ]
    }
   ],
   "source": [
    "string = 'BANANO'\n",
    "solution = 3\n",
    "test_case = [string, solution]\n",
    "test_function(test_case)\n",
    "\n",
    "#      B  A  N  A  N  O\n",
    "# B  [[1, 1, 1, 3, 3, 3],\n",
    "# A   [0, 1, 1, 3, 3, 3],\n",
    "# N   [0, 0, 1, 1, 3, 3],\n",
    "# A   [0, 0, 0, 1, 1, 1],\n",
    "# N   [0, 0, 0, 0, 1, 1],\n",
    "# O   [0, 0, 0, 0, 0, 1]]\n",
    "\n",
    "# LPS length:  3"
   ]
  },
  {
   "cell_type": "code",
   "execution_count": 98,
   "metadata": {
    "graffitiCellId": "id_cqnb288"
   },
   "outputs": [
    {
     "name": "stdout",
     "output_type": "stream",
     "text": [
      "7\n",
      "Pass\n"
     ]
    }
   ],
   "source": [
    "string = \"TACOCAT\"\n",
    "solution = 7\n",
    "test_case = [string, solution]\n",
    "test_function(test_case)"
   ]
  },
  {
   "cell_type": "markdown",
   "metadata": {
    "collapsed": true,
    "graffitiCellId": "id_ovo1t4d"
   },
   "source": [
    "### Time Complexity\n",
    "\n",
    "**What is the time complexity of the above implementation?**\n",
    "\n",
    "In the solution, we are looping over the elements of our `input_string` using two `for` loops; these are each of $O(N)$ and nested this becomes $O(N^2)$. This behavior dominates our optimized solution."
   ]
  },
  {
   "cell_type": "code",
   "execution_count": null,
   "metadata": {
    "graffitiCellId": "id_q4799d9"
   },
   "outputs": [],
   "source": []
  }
 ],
 "metadata": {
  "graffiti": {
   "firstAuthorId": "10694620118",
   "id": "id_w5rg0wc",
   "language": "EN"
  },
  "kernelspec": {
   "display_name": "Python 3",
   "language": "python",
   "name": "python3"
  },
  "language_info": {
   "codemirror_mode": {
    "name": "ipython",
    "version": 3
   },
   "file_extension": ".py",
   "mimetype": "text/x-python",
   "name": "python",
   "nbconvert_exporter": "python",
   "pygments_lexer": "ipython3",
   "version": "3.6.3"
  }
 },
 "nbformat": 4,
 "nbformat_minor": 2
}
