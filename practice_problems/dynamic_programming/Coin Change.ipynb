{
 "cells": [
  {
   "cell_type": "markdown",
   "metadata": {
    "graffitiCellId": "id_pxg59hb"
   },
   "source": [
    "# Coin Change\n",
    "\n",
    "You are given coins of different denominations and a total amount of money. Write a function to compute the fewest coins needed to make up that amount. If that amount of money cannot be made up by any combination of the coins, return `-1`.\n",
    "\n",
    "As an example:\n",
    "* Input: `coins = [1, 2, 3]`, `amount = 6`\n",
    "* Output: `2`\n",
    "* Explanation: The output is `2` because we can use `2` coins with value `3`. That is, `6 = 3 + 3`. We could also use `3` coins with value `2` (that is, `6 = 2 + 2 + 2`), but this would use more coins—and the problem specifies we should use the smallest number of coins possible.\n",
    "\n",
    "There's test code below that you can use to check your solution. And at the bottom of the notebook, you'll find two different possible solutions."
   ]
  },
  {
   "cell_type": "code",
   "execution_count": 20,
   "metadata": {
    "graffitiCellId": "id_n12iz5t"
   },
   "outputs": [],
   "source": [
    "def coin_change(coins, amount):\n",
    "    # initialize a dictionary to store the precalulated \"fewest coins\" value for a given amount \n",
    "    fewest_coins = dict() \n",
    "    \n",
    "    # recurisvely calculate the fewest number of coins we need to reach our target amount \n",
    "    coins = calculate_fewest_coins(coins, amount, fewest_coins)\n",
    "    \n",
    "    # return -1 of no solution was found, otherwise return the number of coins calculated \n",
    "    return -1 if coins == float('inf') else coins \n",
    "\n",
    "def calculate_fewest_coins(coins, amount, data):\n",
    "    # case where target amount is less than 0 \n",
    "    if amount < 0:\n",
    "        return float('inf')\n",
    "    \n",
    "    # case where target amount equals 0\n",
    "    if amount == 0:\n",
    "        return 0 \n",
    "    \n",
    "    # calculate coin combinations for our current target amount if not yet calculated \n",
    "    if amount not in data:\n",
    "        min_coins = float('inf') \n",
    "        \n",
    "        for coin in coins:\n",
    "            # calculate coins used if we select current coin\n",
    "            potential_min_coins = calculate_fewest_coins(coins, amount - coin, data) + 1\n",
    "            min_coins = min(min_coins, potential_min_coins)\n",
    "        \n",
    "        data[amount] = min_coins \n",
    "        \n",
    "    # return the number of coins for our curren amount \n",
    "    return data[amount]"
   ]
  },
  {
   "cell_type": "code",
   "execution_count": 2,
   "metadata": {
    "graffitiCellId": "id_g1vpolv"
   },
   "outputs": [],
   "source": [
    "def test_function(test_case):\n",
    "    arr = test_case[0]\n",
    "    amount = test_case[1]\n",
    "    solution = test_case[2]\n",
    "    output = coin_change(arr, amount)\n",
    "    if output == solution:\n",
    "        print(\"Pass\")\n",
    "    else:\n",
    "        print(\"Fail\")"
   ]
  },
  {
   "cell_type": "code",
   "execution_count": 21,
   "metadata": {
    "graffitiCellId": "id_cqdyyun"
   },
   "outputs": [
    {
     "name": "stdout",
     "output_type": "stream",
     "text": [
      "Pass\n"
     ]
    }
   ],
   "source": [
    "arr = [1,2,5]\n",
    "amount = 11\n",
    "solution = 3\n",
    "test_case = [arr, amount, solution]\n",
    "test_function(test_case)"
   ]
  },
  {
   "cell_type": "code",
   "execution_count": 22,
   "metadata": {
    "graffitiCellId": "id_91p1cz0"
   },
   "outputs": [
    {
     "name": "stdout",
     "output_type": "stream",
     "text": [
      "Pass\n"
     ]
    }
   ],
   "source": [
    "arr = [1,4,5,6]\n",
    "amount = 23\n",
    "solution = 4\n",
    "test_case = [arr, amount, solution]\n",
    "test_function(test_case)"
   ]
  },
  {
   "cell_type": "code",
   "execution_count": 23,
   "metadata": {
    "graffitiCellId": "id_mo17gzo"
   },
   "outputs": [
    {
     "name": "stdout",
     "output_type": "stream",
     "text": [
      "Pass\n"
     ]
    }
   ],
   "source": [
    "arr = [5,7,8]\n",
    "amount = 2\n",
    "solution = -1\n",
    "test_case = [arr, amount, solution]\n",
    "test_function(test_case)"
   ]
  },
  {
   "cell_type": "markdown",
   "metadata": {
    "graffitiCellId": "id_jjdrdzm"
   },
   "source": [
    "## Solutions\n",
    "\n",
    "Let's look at two different solutions. Here's one way to do it...\n",
    "\n",
    "<span class=\"graffiti-highlight graffiti-id_jjdrdzm-id_fpk926y\"><i></i><button>Show Solution One</button></span>"
   ]
  },
  {
   "cell_type": "code",
   "execution_count": 16,
   "metadata": {
    "graffitiCellId": "id_9z3z0e0"
   },
   "outputs": [],
   "source": [
    "# Solution Two\n",
    "\n",
    "# We initiate F[Amount] to be float('inf') and F[0] = 0\n",
    "# Let F[Amount] to be the minimum number of coins needed to get change for the Amount.\n",
    "# F[Amount + coin] = min(F(Amount + coin), F(Amount) + 1) if F[Amount] is reachable.\n",
    "# F[Amount + coin] = F(Amount + coin) if F[Amount] is not reachable.\n",
    "\n",
    "def coin_change(coins, amount):\n",
    "    # initiate the list with length amount + 1 and prefill with float('inf')\n",
    "    res = [float('inf')]*(amount + 1)\n",
    "    \n",
    "    # when amount = 0, 0 number of coins will be needed for the change\n",
    "    res[0] = 0\n",
    "    \n",
    "    i = 0\n",
    "    while (i < amount):\n",
    "        if res[i] != float('inf'):\n",
    "            for coin in coins:\n",
    "                if i <= amount - coin:\n",
    "                    res[i+coin] = min(res[i] + 1, res[i+coin])\n",
    "        i += 1\n",
    "\n",
    "    if res[amount] == float('inf'):\n",
    "        return -1\n",
    "    return res[amount]\n",
    "        \n"
   ]
  },
  {
   "cell_type": "markdown",
   "metadata": {
    "graffitiCellId": "id_om55y5v"
   },
   "source": [
    "And here's another possibility:\n",
    "\n",
    "<span class=\"graffiti-highlight graffiti-id_bmrwntc-id_9z3z0e0\"><i></i><button>Show Solution Two</button></span>"
   ]
  }
 ],
 "metadata": {
  "graffiti": {
   "firstAuthorId": "10694620118",
   "id": "id_0hxxyvu",
   "language": "EN"
  },
  "kernelspec": {
   "display_name": "Python 3",
   "language": "python",
   "name": "python3"
  },
  "language_info": {
   "codemirror_mode": {
    "name": "ipython",
    "version": 3
   },
   "file_extension": ".py",
   "mimetype": "text/x-python",
   "name": "python",
   "nbconvert_exporter": "python",
   "pygments_lexer": "ipython3",
   "version": "3.6.3"
  }
 },
 "nbformat": 4,
 "nbformat_minor": 2
}
