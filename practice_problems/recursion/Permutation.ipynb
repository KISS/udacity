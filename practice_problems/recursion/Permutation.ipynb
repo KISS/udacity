{
 "cells": [
  {
   "cell_type": "markdown",
   "metadata": {
    "graffitiCellId": "id_op9zwiy"
   },
   "source": [
    "# Permutation"
   ]
  },
  {
   "cell_type": "markdown",
   "metadata": {
    "graffitiCellId": "id_h4gumy5"
   },
   "source": [
    "\n",
    "**Question** - Let's use recursion to help us solve the following permutation problem:\n",
    "\n",
    "Given a list of items, the goal is to find all of the permutations of that list. For example,<br>\n",
    "Given a list like: `[0, 1, 2]` <br>\n",
    "Permutations: `[[0, 1, 2], [0, 2, 1], [1, 0, 2], [1, 2, 0], [2, 0, 1], [2, 1, 0]]` <br><br>\n",
    "Notice that the expected output is a list of permutation with each permuted item being represented by a list. Such an object that contains other object is called \"compound\" object. <br>\n",
    "\n",
    "**The Idea**<br>\n",
    "Build a compoundList incrementally starting with a blank list, and permute (add) each element of original input list at all possible positions. <br><br>\n",
    "\n",
    "For example, take `[0, 1, 2]` as the original input list:<br>\n",
    "\n",
    "1. Start with a blank compoundList `[[]]`. This is actually the last call of recursive function stack. Pick the element `2` of original input list, making the compoundList as `[[2]]`<br><br>\n",
    "\n",
    "2. Pick next element `1` of original input list, and add this element at position 0, and 1 for each list of previous compoundList. **We will require to create copy of all lists of previous compoundList, and add the new element.** Now, the compoundList will become `[[1, 2], [2, 1]]`.<br><br>\n",
    "\n",
    "3. Pick next element `0` of original input list, and add this element at position 0, 1, and 2 for each list of previous compoundList. Now, the compoundList will become `[[0, 1, 2], [1, 0, 2], [1, 2, 0], [0, 2, 1], [2, 0, 1], [2, 1, 0]]` .<br><br>\n"
   ]
  },
  {
   "cell_type": "markdown",
   "metadata": {
    "graffitiCellId": "id_vjjnt65"
   },
   "source": [
    "\n",
    "**Additional Resource**<br>\n",
    "While dealing with a \"compound\" object, a simple copy operation might not work as expected. You would need a function that can create a deep copy. For this purpose, you can make use of `deepcopy()` function from the `copy` module in Python. This module provides the function for normal (Shallow) and deep copy operations. Refer here - https://docs.python.org/3/library/copy.html for syntax and detailed information, that says:  <br>\n",
    "<br>\n",
    ">**Difference between Deep and Shallow Copy**<br>\n",
    "The difference between shallow and deep copying is only relevant for compound objects (objects that contain other objects, like lists or class instances):\n",
    " - A shallow copy constructs a new compound object and then inserts references into it to the objects found in the original.\n",
    " - A deep copy constructs a new compound object and then, recursively, inserts copies into it of the objects found in the original.\n",
    " \n",
    "**Example Illustration of deep copy, shallow copy, and assignment operator**<br>"
   ]
  },
  {
   "cell_type": "code",
   "execution_count": 1,
   "metadata": {
    "graffitiCellId": "id_97foipq"
   },
   "outputs": [
    {
     "name": "stdout",
     "output_type": "stream",
     "text": [
      "True\n",
      "True\n",
      "False\n",
      "True\n",
      "False\n",
      "False\n"
     ]
    }
   ],
   "source": [
    "import copy                                           # `copy` module\n",
    "\n",
    "list1 = [0, 1, 2]\n",
    "list2 = [7, 8, 9]                                     \n",
    "compoundList1 = [list1, list2]                        # create a compound object\n",
    "\n",
    "\n",
    "'''ASSIGNMENT OPERATION - Points a new reference to the existing object.'''\n",
    "compoundList2 = compoundList1\n",
    "\n",
    "# id() - returns the identity of the object passed\n",
    "print(id(compoundList1) == id(compoundList2))          # True - compoundList2 is the same object as compoundList1\n",
    "print(id(compoundList1[0]) == id(compoundList2[0]))    # True - compoundList2[0] is the same object as compoundList1[0]\n",
    "\n",
    "\n",
    "'''SHALLOW COPY'''\n",
    "compoundList2 = copy.copy(compoundList1)\n",
    "\n",
    "print(id(compoundList1) == id(compoundList2))          # False - compoundList2 is now a new object\n",
    "print(id(compoundList1[0]) == id(compoundList2[0]))    # True - compoundList2[0] is the same object as compoundList1[0]\n",
    "\n",
    "\n",
    "'''DEEP COPY'''\n",
    "compoundList2 = copy.deepcopy(compoundList1)\n",
    "\n",
    "print(id(compoundList1) == id(compoundList2))          # False - compoundList2 is now a new object\n",
    "print(id(compoundList1[0]) == id(compoundList2[0]))    # False - compoundList2[0] is now a new object"
   ]
  },
  {
   "cell_type": "markdown",
   "metadata": {
    "graffitiCellId": "id_bnz6211"
   },
   "source": [
    "---\n",
    "### Exercise - Write the function definition here"
   ]
  },
  {
   "cell_type": "code",
   "execution_count": 31,
   "metadata": {
    "graffitiCellId": "id_45biddl"
   },
   "outputs": [],
   "source": [
    "# Code\n",
    "\n",
    "import copy\n",
    "\n",
    "def permute(inputList):\n",
    "    \"\"\"\n",
    "    Args: myList: list of items to be permuted\n",
    "    Returns: list of permutation with each permuted item being represented by a list\n",
    "    \"\"\"\n",
    "    # create result compound list \n",
    "    final_compound_list = []\n",
    "    \n",
    "    if len(inputList) == 0:\n",
    "        final_compound_list.append([]) \n",
    "    else:\n",
    "        curr_elem = inputList[0]\n",
    "        remaining_list = inputList[1:]\n",
    "        \n",
    "        # recurse to solve for remaining list \n",
    "        sub_compound_list = permute(remaining_list)\n",
    "        \n",
    "        # iterate through each list in sub_compound_list and add curr_elem\n",
    "        for arr in sub_compound_list: \n",
    "            # make arr larger by 1 and insert curr_elem at each possible position\n",
    "            for i in range(len(arr) + 1):\n",
    "                # copy existing list \n",
    "                updated_list = []\n",
    "                for val in arr:\n",
    "                    updated_list.append(val)\n",
    "                    \n",
    "                # insert curr_elem into index \"i\"\n",
    "                updated_list.insert(i, curr_elem)\n",
    "                \n",
    "                # append updated list to our final compound list \n",
    "                final_compound_list.append(updated_list)\n",
    "                \n",
    "    return final_compound_list"
   ]
  },
  {
   "cell_type": "markdown",
   "metadata": {
    "graffitiCellId": "id_nb2cges"
   },
   "source": [
    "### Test - Let's test your function"
   ]
  },
  {
   "cell_type": "code",
   "execution_count": 32,
   "metadata": {
    "graffitiCellId": "id_9kv3248"
   },
   "outputs": [
    {
     "name": "stdout",
     "output_type": "stream",
     "text": [
      "Pass\n",
      "Pass\n",
      "Pass\n",
      "Pass\n"
     ]
    }
   ],
   "source": [
    "# Test Cases \n",
    "\n",
    "# Helper Function\n",
    "def check_output(output, expected_output):\n",
    "    \"\"\"\n",
    "    Return True if output and expected_output\n",
    "    contains the same lists, False otherwise.\n",
    "    \n",
    "    Note that the ordering of the list is not important.\n",
    "    \n",
    "    Examples:\n",
    "        check_output([ [0, 1], [1, 0] ] ], [ [1, 0], [0, 1] ]) returns True\n",
    "\n",
    "    Args:\n",
    "        output(list): list of list\n",
    "        expected_output(list): list of list\n",
    "    \n",
    "    Returns:\n",
    "        bool\n",
    "    \"\"\"\n",
    "    o = copy.deepcopy(output)  # so that we don't mutate input\n",
    "    e = copy.deepcopy(expected_output)  # so that we don't mutate input\n",
    "    \n",
    "    o.sort()\n",
    "    e.sort()\n",
    "    return o == e\n",
    "\n",
    "print (\"Pass\" if  (check_output(permute([]), [[]])) else \"Fail\")\n",
    "print (\"Pass\" if  (check_output(permute([0]), [[0]])) else \"Fail\")\n",
    "print (\"Pass\" if  (check_output(permute([0, 1]), [[0, 1], [1, 0]])) else \"Fail\")\n",
    "print (\"Pass\" if  (check_output(permute([0, 1, 2]), [[0, 1, 2], [0, 2, 1], [1, 0, 2], [1, 2, 0], [2, 0, 1], [2, 1, 0]])) else \"Fail\")"
   ]
  },
  {
   "cell_type": "markdown",
   "metadata": {
    "graffitiCellId": "id_7mkz7sx"
   },
   "source": [
    "<span class=\"graffiti-highlight graffiti-id_7mkz7sx-id_al2wv3g\"><i></i><button>Show Solution</button></span>"
   ]
  },
  {
   "cell_type": "code",
   "execution_count": null,
   "metadata": {
    "graffitiCellId": "id_xx677gp"
   },
   "outputs": [],
   "source": []
  }
 ],
 "metadata": {
  "graffiti": {
   "firstAuthorId": "10694620118",
   "id": "id_gm7n621",
   "language": "EN"
  },
  "kernelspec": {
   "display_name": "Python 3",
   "language": "python",
   "name": "python3"
  },
  "language_info": {
   "codemirror_mode": {
    "name": "ipython",
    "version": 3
   },
   "file_extension": ".py",
   "mimetype": "text/x-python",
   "name": "python",
   "nbconvert_exporter": "python",
   "pygments_lexer": "ipython3",
   "version": "3.6.3"
  }
 },
 "nbformat": 4,
 "nbformat_minor": 2
}
