{
 "cells": [
  {
   "cell_type": "markdown",
   "metadata": {
    "graffitiCellId": "id_1myd4mr"
   },
   "source": [
    "### Problem statement\n",
    "\n",
    "In an encryption system where ASCII lower case letters represent numbers in the pattern `a=1, b=2, c=3...` and so on, find out all the codes that are possible for a given input number. \n",
    "\n",
    "**Example 1**\n",
    "\n",
    "* `number = 123`\n",
    "* `codes_possible = [\"aw\", \"abc\", \"lc\"]`\n",
    "\n",
    "Explanation: The codes are for the following number:\n",
    "         \n",
    "* 1 . 23     = \"aw\"\n",
    "* 1 . 2 . 3  = \"abc\"\n",
    "* 12 . 3     = \"lc\"\n",
    "    \n",
    "\n",
    "**Example 2**  \n",
    "\n",
    "* `number = 145`\n",
    "* `codes_possible = [\"ade\", \"ne\"]`\n",
    "\n",
    "Return the codes in a list. The order of codes in the list is not important.\n",
    "\n",
    "\n",
    "*Note: you can assume that the input number will not contain any 0s*"
   ]
  },
  {
   "cell_type": "code",
   "execution_count": 34,
   "metadata": {
    "graffitiCellId": "id_v2stglr"
   },
   "outputs": [],
   "source": [
    "# indexes 0 - 26, maps to numbers 1 - 26\n",
    "chars = [\"a\", \"b\", \"c\", \"d\", \"e\", \"f\", \"g\", \"h\", \"i\", \"j\", \"k\", \n",
    "         \"l\", \"m\", \"n\", \"o\", \"p\", \"q\", \"r\", \"s\", \"t\", \"u\", \"v\", \"w\", \"x\", \"y\", \"z\"]\n",
    "\n",
    "def all_codes(number):\n",
    "    \"\"\"\n",
    "    :param: number - input integer\n",
    "    Return - list() of all codes possible for this number\n",
    "    TODO: complete this method and return a list with all possible codes for the input number\n",
    "    \"\"\"    \n",
    "    if number == 0:\n",
    "        return [\"\"]\n",
    "       \n",
    "    output = []\n",
    "    remainder = number % 100\n",
    "    output_100 = []\n",
    "    \n",
    "    if remainder <= 26 and number > 9:\n",
    "        output_100 = all_codes(number // 100)\n",
    "        c = chars[remainder - 1]\n",
    "    \n",
    "        for i in range(len(output_100)):\n",
    "            curr_str = output_100[i]\n",
    "            output_100[i] = curr_str + c\n",
    "            \n",
    "#         print(c, output_100)\n",
    "            \n",
    "    remainder = number % 10\n",
    "    output_10 = all_codes(number // 10)\n",
    "    c = chars[remainder - 1]\n",
    "    \n",
    "#     print(c, output_10)\n",
    "    for i in range(len(output_10)):\n",
    "        curr_str = output_10[i]\n",
    "        output_10[i] = curr_str + c\n",
    "        \n",
    "    output.extend(output_100)\n",
    "    output.extend(output_10)\n",
    "    return output"
   ]
  },
  {
   "cell_type": "markdown",
   "metadata": {
    "graffitiCellId": "id_q8i2zj9"
   },
   "source": [
    "<span class=\"graffiti-highlight graffiti-id_q8i2zj9-id_yrg0ir2\"><i></i><button>Show Solution</button></span>"
   ]
  },
  {
   "cell_type": "code",
   "execution_count": 35,
   "metadata": {
    "graffitiCellId": "id_byos91q"
   },
   "outputs": [],
   "source": [
    "def test_function(test_case):\n",
    "    number = test_case[0]\n",
    "    solution = test_case[1]\n",
    "    \n",
    "    output = all_codes(number)\n",
    "    \n",
    "    output.sort()\n",
    "    solution.sort()\n",
    "    \n",
    "    if output == solution:\n",
    "        print(\"Pass\")\n",
    "    else:\n",
    "        print(\"Fail\")"
   ]
  },
  {
   "cell_type": "code",
   "execution_count": 41,
   "metadata": {
    "graffitiCellId": "id_l3o11vy"
   },
   "outputs": [
    {
     "name": "stdout",
     "output_type": "stream",
     "text": [
      "a ['']\n",
      "w ['aw']\n",
      "l ['l']\n",
      "a ['']\n",
      "b ['a']\n",
      "c ['l', 'ab']\n",
      "Pass\n"
     ]
    }
   ],
   "source": [
    "number = 123\n",
    "solution = ['abc', 'aw', 'lc']\n",
    "test_case = [number, solution]\n",
    "test_function(test_case)"
   ]
  },
  {
   "cell_type": "code",
   "execution_count": 42,
   "metadata": {
    "graffitiCellId": "id_a5y5trj"
   },
   "outputs": [
    {
     "name": "stdout",
     "output_type": "stream",
     "text": [
      "n ['n']\n",
      "a ['']\n",
      "d ['a']\n",
      "e ['n', 'ad']\n",
      "Pass\n"
     ]
    }
   ],
   "source": [
    "number = 145\n",
    "solution =  ['ade', 'ne']\n",
    "test_case = [number, solution]\n",
    "test_function(test_case)"
   ]
  },
  {
   "cell_type": "code",
   "execution_count": 43,
   "metadata": {
    "graffitiCellId": "id_ujafvah"
   },
   "outputs": [
    {
     "name": "stdout",
     "output_type": "stream",
     "text": [
      "a ['']\n",
      "n ['an']\n",
      "k ['k']\n",
      "a ['']\n",
      "a ['a']\n",
      "d ['k', 'aa']\n",
      "e ['an', 'kd', 'aad']\n",
      "Pass\n"
     ]
    }
   ],
   "source": [
    "number = 1145\n",
    "solution =  ['aade', 'ane', 'kde']\n",
    "test_case = [number, solution]\n",
    "test_function(test_case)"
   ]
  },
  {
   "cell_type": "code",
   "execution_count": 44,
   "metadata": {
    "graffitiCellId": "id_6d1dxt9"
   },
   "outputs": [
    {
     "name": "stdout",
     "output_type": "stream",
     "text": [
      "d ['']\n",
      "e ['d']\n",
      "d ['de']\n",
      "e ['ded']\n",
      "Pass\n"
     ]
    }
   ],
   "source": [
    "number = 4545\n",
    "solution = ['dede']\n",
    "test_case = [number, solution]\n",
    "test_function(test_case)"
   ]
  },
  {
   "cell_type": "code",
   "execution_count": null,
   "metadata": {
    "graffitiCellId": "id_6422l8e"
   },
   "outputs": [],
   "source": []
  }
 ],
 "metadata": {
  "graffiti": {
   "firstAuthorId": "dev",
   "id": "id_kdfaoy8",
   "language": "EN"
  },
  "kernelspec": {
   "display_name": "Python 3",
   "language": "python",
   "name": "python3"
  },
  "language_info": {
   "codemirror_mode": {
    "name": "ipython",
    "version": 3
   },
   "file_extension": ".py",
   "mimetype": "text/x-python",
   "name": "python",
   "nbconvert_exporter": "python",
   "pygments_lexer": "ipython3",
   "version": "3.6.3"
  }
 },
 "nbformat": 4,
 "nbformat_minor": 2
}
