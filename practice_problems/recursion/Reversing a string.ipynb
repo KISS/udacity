{
 "cells": [
  {
   "cell_type": "markdown",
   "metadata": {
    "graffitiCellId": "id_vwxoyg1"
   },
   "source": [
    "# Reversing a String"
   ]
  },
  {
   "cell_type": "markdown",
   "metadata": {
    "graffitiCellId": "id_b24w32i"
   },
   "source": [
    "The goal in this notebook will be to get practice with a problem that is frequently solved by recursion: Reversing a string.\n",
    "\n",
    "Note that Python has a built-in function that you could use for this, but the goal here is to avoid that and understand how it can be done using recursion instead."
   ]
  },
  {
   "cell_type": "markdown",
   "metadata": {
    "graffitiCellId": "id_luj1i9o"
   },
   "source": [
    "### Exercise - Write the function definition here"
   ]
  },
  {
   "cell_type": "code",
   "execution_count": 3,
   "metadata": {
    "graffitiCellId": "id_ericocu"
   },
   "outputs": [],
   "source": [
    "# Code\n",
    "\n",
    "def reverse_string(input):\n",
    "    \"\"\"\n",
    "    Return reversed input string\n",
    "    \n",
    "    Examples:\n",
    "       reverse_string(\"abc\") returns \"cba\"\n",
    "    \n",
    "    Args:\n",
    "      input(str): string to be reversed\n",
    "    \n",
    "    Returns:\n",
    "      a string that is the reverse of input\n",
    "    \"\"\"\n",
    "    \n",
    "    # base case\n",
    "    if input == \"\":\n",
    "        return \"\"\n",
    "    \n",
    "    return input[-1] + reverse_string(input[:-1])"
   ]
  },
  {
   "cell_type": "markdown",
   "metadata": {
    "graffitiCellId": "id_o0jjdm2"
   },
   "source": [
    "### Test - Let's test your function"
   ]
  },
  {
   "cell_type": "code",
   "execution_count": 4,
   "metadata": {
    "graffitiCellId": "id_0zqr9ts"
   },
   "outputs": [
    {
     "name": "stdout",
     "output_type": "stream",
     "text": [
      "Pass\n",
      "Pass\n"
     ]
    }
   ],
   "source": [
    "# Test Cases\n",
    "    \n",
    "print (\"Pass\" if  (\"\" == reverse_string(\"\")) else \"Fail\")\n",
    "print (\"Pass\" if  (\"cba\" == reverse_string(\"abc\")) else \"Fail\")"
   ]
  },
  {
   "cell_type": "markdown",
   "metadata": {
    "graffitiCellId": "id_4uzxsts"
   },
   "source": [
    "<span class=\"graffiti-highlight graffiti-id_4uzxsts-id_3o4r993\"><i></i><button>Hide Solution</button></span>"
   ]
  },
  {
   "cell_type": "code",
   "execution_count": null,
   "metadata": {
    "graffitiCellId": "id_3o4r993"
   },
   "outputs": [],
   "source": [
    "# Solution\n",
    "\"\"\"\n",
    "RECURSIVE FUNCTION\n",
    "Args: input(str): string to be reversed\n",
    "Returns: a string that us reversed of input\n",
    "\"\"\"\n",
    "def reverse_string(input):\n",
    "    \n",
    "    # (Recursion) Termination condition / Base condition\n",
    "    if len(input) == 0:\n",
    "        return \"\"\n",
    "\n",
    "    else:\n",
    "        first_char = input[0]\n",
    "        \n",
    "        '''\n",
    "        The `slice()` function can accept upto the following three arguments.\n",
    "        - start: [OPTIONAL] starting index. Default value is 0.\n",
    "        - stop: ending index (exclusive)\n",
    "        - step_size: [OPTIONAL] the increment size. Default value is 1.\n",
    "        \n",
    "        The return type of `slice()` function is an object of class 'slice'. \n",
    "        '''\n",
    "        the_rest = slice(1, None)     # `the_rest` is an object of type 'slice' class\n",
    "        sub_string = input[the_rest]  # convert the `slice` object into a list\n",
    "        \n",
    "        # Recursive call\n",
    "        reversed_substring = reverse_string(sub_string)\n",
    "        \n",
    "        return reversed_substring + first_char\n",
    "#-------------------------------------------------#\n",
    "'''\n",
    "**Time and Space Complexity Analysis**\n",
    "Each recursive call to the `reverse_string()` function will create \n",
    "a new set of local variables - first_char, the_rest, sub_string, and reversed_substring. \n",
    "Therefore, the space complexity of a recursive function would always be proportional to the \n",
    "maximum depth of recursion stack.  \n",
    "The time complexity for this function will be  O(k*n), where k is a constant and n is the \n",
    "number of characters in the string (depth of recursion stack). \n",
    "'''"
   ]
  },
  {
   "cell_type": "code",
   "execution_count": null,
   "metadata": {
    "graffitiCellId": "id_t9umiev"
   },
   "outputs": [],
   "source": []
  }
 ],
 "metadata": {
  "graffiti": {
   "firstAuthorId": "10694620118",
   "id": "id_engua4l",
   "language": "EN"
  },
  "kernelspec": {
   "display_name": "Python 3",
   "language": "python",
   "name": "python3"
  },
  "language_info": {
   "codemirror_mode": {
    "name": "ipython",
    "version": 3
   },
   "file_extension": ".py",
   "mimetype": "text/x-python",
   "name": "python",
   "nbconvert_exporter": "python",
   "pygments_lexer": "ipython3",
   "version": "3.6.3"
  }
 },
 "nbformat": 4,
 "nbformat_minor": 2
}
