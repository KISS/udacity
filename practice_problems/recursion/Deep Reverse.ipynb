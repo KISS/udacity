{
 "cells": [
  {
   "cell_type": "markdown",
   "metadata": {
    "graffitiCellId": "id_raex3xy"
   },
   "source": [
    "## Problem Statement\n",
    "\n",
    "Define a procedure, `deep_reverse`, that takes as input a list, and returns a new list that is the deep reverse of the input list.  \n",
    "This means it reverses all the elements in the list, and if any of those elements are lists themselves, reverses all the elements in the inner list, all the way down. \n",
    "\n",
    ">Note: The procedure must not change the input list itself.\n",
    "\n",
    "**Example**<br>\n",
    "Input: `[1, 2, [3, 4, 5], 4, 5]`<br>\n",
    "Output: `[5, 4, [5, 4, 3], 2, 1]`<br>\n",
    "\n",
    "**Hint**<br>\n",
    "1. Begin with a blank final list to be returned.\n",
    "2. Traverse the given list in the reverse order.\n",
    " * If an item in the list is a list itself, call the same function.\n",
    " * Otheriwse, append the item to the final list.\n"
   ]
  },
  {
   "cell_type": "markdown",
   "metadata": {
    "graffitiCellId": "id_qh8o0hp"
   },
   "source": [
    "### Exercise - Write the function definition here"
   ]
  },
  {
   "cell_type": "code",
   "execution_count": 57,
   "metadata": {
    "graffitiCellId": "id_ga0lpbe"
   },
   "outputs": [],
   "source": [
    "def deep_reverse(arr):\n",
    "    if len(arr) == 0:\n",
    "        return arr\n",
    "    \n",
    "    output = []\n",
    "    \n",
    "    for i in range(-1, -(len(arr) + 1), -1):\n",
    "        val = arr[i]\n",
    "        print(arr, val)\n",
    "        if type(val) == int:\n",
    "            output.append(val)\n",
    "        else:\n",
    "            output.append(deep_reverse(val))\n",
    "            \n",
    "    return output\n",
    "        "
   ]
  },
  {
   "cell_type": "markdown",
   "metadata": {
    "graffitiCellId": "id_25r0ar8"
   },
   "source": [
    "<span class=\"graffiti-highlight graffiti-id_25r0ar8-id_l0hi76f\"><i></i><button>Show Solution</button></span>"
   ]
  },
  {
   "cell_type": "markdown",
   "metadata": {
    "graffitiCellId": "id_ahbfr8o"
   },
   "source": [
    "### Test - Let's test your function"
   ]
  },
  {
   "cell_type": "code",
   "execution_count": 58,
   "metadata": {
    "graffitiCellId": "id_qgv6buk"
   },
   "outputs": [],
   "source": [
    "def test_function(test_case):\n",
    "    arr = test_case[0]\n",
    "    solution = test_case[1]\n",
    "    \n",
    "    output = deep_reverse(arr)\n",
    "    if output == solution:\n",
    "        print(\"Pass\")\n",
    "    else:\n",
    "        print(\"False\")"
   ]
  },
  {
   "cell_type": "code",
   "execution_count": 59,
   "metadata": {
    "graffitiCellId": "id_96zra8y"
   },
   "outputs": [
    {
     "name": "stdout",
     "output_type": "stream",
     "text": [
      "[1, 2, 3, 4, 5] 5\n",
      "[1, 2, 3, 4, 5] 4\n",
      "[1, 2, 3, 4, 5] 3\n",
      "[1, 2, 3, 4, 5] 2\n",
      "[1, 2, 3, 4, 5] 1\n",
      "Pass\n"
     ]
    }
   ],
   "source": [
    "arr = [1, 2, 3, 4, 5]\n",
    "solution = [5, 4, 3, 2, 1]\n",
    "test_case = [arr, solution]\n",
    "test_function(test_case)"
   ]
  },
  {
   "cell_type": "code",
   "execution_count": 54,
   "metadata": {
    "graffitiCellId": "id_ptx3y5c"
   },
   "outputs": [
    {
     "name": "stdout",
     "output_type": "stream",
     "text": [
      "[1, 2, [3, 4, 5], 4, 5] 5\n",
      "[1, 2, [3, 4, 5], 4, 5] 4\n",
      "[1, 2, [3, 4, 5], 4, 5] [3, 4, 5]\n",
      "[3, 4, 5] 5\n",
      "[3, 4, 5] 4\n",
      "[3, 4, 5] 3\n",
      "[1, 2, [3, 4, 5], 4, 5] 2\n",
      "[1, 2, [3, 4, 5], 4, 5] 1\n",
      "Pass\n"
     ]
    }
   ],
   "source": [
    "arr = [1, 2, [3, 4, 5], 4, 5]\n",
    "solution = [5, 4, [5, 4, 3], 2, 1]\n",
    "test_case = [arr, solution]\n",
    "test_function(test_case)"
   ]
  },
  {
   "cell_type": "code",
   "execution_count": 55,
   "metadata": {
    "graffitiCellId": "id_hblffre"
   },
   "outputs": [
    {
     "name": "stdout",
     "output_type": "stream",
     "text": [
      "[1, [2, 3, [4, [5, 6]]]] [2, 3, [4, [5, 6]]]\n",
      "[2, 3, [4, [5, 6]]] [4, [5, 6]]\n",
      "[4, [5, 6]] [5, 6]\n",
      "[5, 6] 6\n",
      "[5, 6] 5\n",
      "[4, [5, 6]] 4\n",
      "[2, 3, [4, [5, 6]]] 3\n",
      "[2, 3, [4, [5, 6]]] 2\n",
      "[1, [2, 3, [4, [5, 6]]]] 1\n",
      "Pass\n"
     ]
    }
   ],
   "source": [
    "arr = [1, [2, 3, [4, [5, 6]]]]\n",
    "solution = [[[[6, 5], 4], 3, 2], 1]\n",
    "test_case = [arr, solution]\n",
    "test_function(test_case)"
   ]
  },
  {
   "cell_type": "code",
   "execution_count": 56,
   "metadata": {
    "graffitiCellId": "id_ltvv7w1"
   },
   "outputs": [
    {
     "name": "stdout",
     "output_type": "stream",
     "text": [
      "[1, [2, 3], 4, [5, 6]] [5, 6]\n",
      "[5, 6] 6\n",
      "[5, 6] 5\n",
      "[1, [2, 3], 4, [5, 6]] 4\n",
      "[1, [2, 3], 4, [5, 6]] [2, 3]\n",
      "[2, 3] 3\n",
      "[2, 3] 2\n",
      "[1, [2, 3], 4, [5, 6]] 1\n",
      "Pass\n"
     ]
    }
   ],
   "source": [
    "arr =  [1, [2,3], 4, [5,6]]\n",
    "solution = [ [6,5], 4, [3, 2], 1]\n",
    "test_case = [arr, solution]\n",
    "test_function(test_case)"
   ]
  },
  {
   "cell_type": "code",
   "execution_count": null,
   "metadata": {
    "graffitiCellId": "id_kpixucr"
   },
   "outputs": [],
   "source": []
  }
 ],
 "metadata": {
  "graffiti": {
   "firstAuthorId": "dev",
   "id": "id_u69esyt",
   "language": "EN"
  },
  "kernelspec": {
   "display_name": "Python 3",
   "language": "python",
   "name": "python3"
  },
  "language_info": {
   "codemirror_mode": {
    "name": "ipython",
    "version": 3
   },
   "file_extension": ".py",
   "mimetype": "text/x-python",
   "name": "python",
   "nbconvert_exporter": "python",
   "pygments_lexer": "ipython3",
   "version": "3.6.3"
  }
 },
 "nbformat": 4,
 "nbformat_minor": 2
}
