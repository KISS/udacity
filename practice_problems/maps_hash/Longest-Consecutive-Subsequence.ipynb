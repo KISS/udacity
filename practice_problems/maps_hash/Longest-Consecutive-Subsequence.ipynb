{
 "cells": [
  {
   "cell_type": "markdown",
   "metadata": {
    "graffitiCellId": "id_vhxf50c"
   },
   "source": [
    "### Problem Statement\n",
    "\n",
    "\n",
    "Given a list of integers that contain natural numbers in random order.  Write a program to find the longest possible sub sequence of consecutive numbers in the array. Return this subsequence in sorted order. \n",
    "\n",
    "*In other words, you have to return the sorted longest (sub) list of consecutive numbers present anywhere in the given list.* \n",
    "\n",
    "For example, given the list `5, 4, 7, 10, 1, 3, 55, 2`, the output should be `1, 2, 3, 4, 5`\n",
    "\n",
    "**Note** \n",
    "1. The solution must take O(n) time. *Can you think of using a dictionary here?*\n",
    "2. If two subsequences are of equal length, return the subsequence whose index of smallest element comes first.\n",
    "\n",
    "---\n",
    "\n",
    "### The Idea:\n",
    "Every element of the given `input_list` could be a part of some subsequence. Therefore, we need a way (using a dictionary) to keep track if an element has already been visited. Also, store length of a subsequence if it is maximum. For this purpose, we have to check in **forward** direction, if the `(element+1)` is available in the given dictionary, in a \"while\" loop. Similarly, we will check in **backward** direction for `(element-1)`, in another \"while\" loop. At last, if we have the smallest element and the length of the longest subsequence, we can return a **new** list starting from \"smallest element\" to \"smallest element + length\".\n",
    "\n",
    "The steps would be:\n",
    "\n",
    "\n",
    "1. Create a dictionary, such that the elements of input_list become the \"key\", and the corresponding index become the \"value\" in the dictionary. We are creating a dictionary because the lookup time is considered to be constant in a dictionary. \n",
    "\n",
    "\n",
    "2. For each `element` in the `input_list`, first mark it as visited in the dictionary\n",
    "\n",
    " - Check in forward direction, if the `(element+1)` is available. If yes, increment the length of subsequence\n",
    " \n",
    " - Check in backward direction, if the `(element-1)` is available. If yes, increment the length of subsequence\n",
    "\n",
    " - Keep a track of length of longest subsequence visited so far. For the longest subsequence, store the smallest element (say `start_element`) and its index as well.  \n",
    "\n",
    "\n",
    "3. Return a **new** list starting from `start_element` to `start_element + length`."
   ]
  },
  {
   "cell_type": "markdown",
   "metadata": {
    "graffitiCellId": "id_q492hrd"
   },
   "source": [
    "### Exercise - Write the function definition here"
   ]
  },
  {
   "cell_type": "code",
   "execution_count": 138,
   "metadata": {
    "graffitiCellId": "id_eaee7mz"
   },
   "outputs": [],
   "source": [
    "def longest_consecutive_subsequence(input_list):\n",
    "    if not len(input_list):\n",
    "        return []\n",
    "    \n",
    "    # initialize a dictionary, num: index\n",
    "    nums = {}\n",
    "    \n",
    "    # initialize a variable to track out longest subsequence\n",
    "    longest_subsequence = 0\n",
    "    start_index = -1\n",
    "    \n",
    "    # traverse the input list adding each element and its index into the dictionary \n",
    "    for index, elem in enumerate(input_list):\n",
    "        nums[elem] = index\n",
    "    \n",
    "    # iterate through the input list, for each value:\n",
    "    for elem in input_list:\n",
    "        # check if we're at the start or middle of a sequence\n",
    "        if elem - 1 in nums:\n",
    "            continue\n",
    "        else:\n",
    "            # we're at the start of a subsequence, \n",
    "            # so we check how long this subsequence is\n",
    "            curr_start_index = nums[elem]\n",
    "            curr_num = elem\n",
    "            curr_len = 0\n",
    "            \n",
    "            # verify some many consequence numbers exist in our input\n",
    "            # list that are required to continue the subsequence\n",
    "            while curr_num in nums:\n",
    "                curr_num += 1\n",
    "                curr_len += 1\n",
    "            \n",
    "            # if our longest_subsequence will change, update our subsequence start_index\n",
    "            if longest_subsequence < curr_len:\n",
    "                start_index = curr_start_index\n",
    "            \n",
    "            # update longest_subsequence \n",
    "            longest_subsequence = max(longest_subsequence, curr_len)\n",
    "            \n",
    "    # return a new list, from the starting value of our subsequence to the end\n",
    "    start = input_list[start_index]\n",
    "    output = [i for i in range(start, start + longest_subsequence)]\n",
    "    print(output, start, longest_subsequence, start)\n",
    "    return output"
   ]
  },
  {
   "cell_type": "markdown",
   "metadata": {
    "graffitiCellId": "id_7w3exwo"
   },
   "source": [
    "### Test - Let's test your function"
   ]
  },
  {
   "cell_type": "code",
   "execution_count": 115,
   "metadata": {
    "graffitiCellId": "id_hlznh6q"
   },
   "outputs": [],
   "source": [
    "def test_function(test_case):\n",
    "    output = longest_consecutive_subsequence(test_case[0])\n",
    "    if output == test_case[1]:\n",
    "        print(\"Pass\")\n",
    "    else:\n",
    "        print(\"Fail\")\n",
    "    "
   ]
  },
  {
   "cell_type": "code",
   "execution_count": 116,
   "metadata": {
    "graffitiCellId": "id_z2y7gsr"
   },
   "outputs": [
    {
     "name": "stdout",
     "output_type": "stream",
     "text": [
      "[1, 2, 3, 4, 5] 1 5 6\n",
      "Pass\n"
     ]
    }
   ],
   "source": [
    "test_case_1 = [[5, 4, 7, 10, 1, 3, 55, 2], [1, 2, 3, 4, 5]]\n",
    "test_function(test_case_1)"
   ]
  },
  {
   "cell_type": "code",
   "execution_count": 136,
   "metadata": {
    "graffitiCellId": "id_a3yf5ol"
   },
   "outputs": [
    {
     "name": "stdout",
     "output_type": "stream",
     "text": [
      "[8, 9, 10, 11, 12] 8 5 8\n",
      "Pass\n"
     ]
    }
   ],
   "source": [
    "test_case_2 = [[2, 12, 9, 10, 5, 11, 1, 8], [8, 9, 10, 11, 12]]\n",
    "test_function(test_case_2)"
   ]
  },
  {
   "cell_type": "code",
   "execution_count": 140,
   "metadata": {
    "graffitiCellId": "id_u5rs0q7"
   },
   "outputs": [
    {
     "name": "stdout",
     "output_type": "stream",
     "text": [
      "[0] 0 1 0\n",
      "Pass\n"
     ]
    }
   ],
   "source": [
    "test_case_3 = [[0, 3], [0]]\n",
    "test_function(test_case_3)"
   ]
  },
  {
   "cell_type": "markdown",
   "metadata": {
    "graffitiCellId": "id_et1ek54"
   },
   "source": [
    "<span class=\"graffiti-highlight graffiti-id_et1ek54-id_r15x1vg\"><i></i><button>Hide Solution</button></span>"
   ]
  },
  {
   "cell_type": "code",
   "execution_count": null,
   "metadata": {
    "graffitiCellId": "id_r15x1vg"
   },
   "outputs": [],
   "source": [
    "def longest_consecutive_subsequence(input_list):\n",
    "    \n",
    "    # Create a dictionary.\n",
    "    # Each element of the input_list would become a \"key\", and\n",
    "    # the corresponding index in the input_list would become the \"value\"\n",
    "    element_dict = dict()\n",
    "\n",
    "    # Traverse through the input_list, and populate the dictionary\n",
    "    # Time complexity = O(n) \n",
    "    for index, element in enumerate(input_list):\n",
    "        element_dict[element] = index\n",
    "\n",
    "    # Represents the length of longest subsequence\n",
    "    max_length = -1\n",
    "    \n",
    "    # Represents the index of smallest element in the longest subsequence\n",
    "    starts_at = -1  \n",
    "\n",
    "    # Traverse again - Time complexity = O(n) \n",
    "    for index, element in enumerate(input_list):\n",
    "\n",
    "        current_starts = index\n",
    "        element_dict[element] = -1         # Mark as visited\n",
    "\n",
    "        current_count = 1                  # length of the current subsequence\n",
    "\n",
    "        '''CHECK ONE ELEMENT FORWARD'''\n",
    "        current = element + 1              # `current` is the expected number\n",
    "\n",
    "        # check if the expected number is available (as a key) in the dictionary,\n",
    "        # and it has not been visited yet (i.e., value > 0)\n",
    "        # Time complexity: Constant time for checking a key and retrieving the value = O(1)\n",
    "        while current in element_dict and element_dict[current] > 0:\n",
    "            current_count += 1             # increment the length of subsequence \n",
    "            element_dict[current] = -1     # Mark as visited\n",
    "            current = current + 1          \n",
    "\n",
    "            \n",
    "        '''CHECK ONE ELEMENT BACKWARD'''\n",
    "        # Time complexity: Constant time for checking a key and retrieving the value = O(1)\n",
    "        current = element - 1             # `current` is the expected number\n",
    "\n",
    "        while current in element_dict and element_dict[current] > 0:    \n",
    "            current_starts = element_dict[current]         # index of smallest element in the current subsequence\n",
    "            current_count += 1                             # increment the length of subsequence \n",
    "            element_dict[current] = -1\n",
    "            current = current - 1\n",
    "\n",
    "        '''If length of current subsequence >= max length of previously visited subsequence'''\n",
    "        if current_count >= max_length:\n",
    "            if current_count == max_length and current_starts > starts_at:\n",
    "                continue\n",
    "            starts_at = current_starts            # index of smallest element in the current (longest so far) subsequence\n",
    "            max_length = current_count            # store the length of current (longest so far) subsequence\n",
    "\n",
    "\n",
    "    start_element = input_list[starts_at]          # smallest element in the longest subsequence\n",
    "\n",
    "    # return a NEW list starting from `start_element` to `(start_element + max_length)` \n",
    "    return [element for element in range(start_element, start_element + max_length)]"
   ]
  },
  {
   "cell_type": "code",
   "execution_count": null,
   "metadata": {
    "graffitiCellId": "id_yip989g"
   },
   "outputs": [],
   "source": []
  }
 ],
 "metadata": {
  "graffiti": {
   "firstAuthorId": "10694620118",
   "id": "id_alotytm",
   "language": "EN"
  },
  "kernelspec": {
   "display_name": "Python 3",
   "language": "python",
   "name": "python3"
  },
  "language_info": {
   "codemirror_mode": {
    "name": "ipython",
    "version": 3
   },
   "file_extension": ".py",
   "mimetype": "text/x-python",
   "name": "python",
   "nbconvert_exporter": "python",
   "pygments_lexer": "ipython3",
   "version": "3.6.3"
  }
 },
 "nbformat": 4,
 "nbformat_minor": 2
}
